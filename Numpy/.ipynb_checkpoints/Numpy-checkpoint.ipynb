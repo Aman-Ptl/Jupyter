{
 "cells": [
  {
   "cell_type": "code",
   "execution_count": 1,
   "id": "3f61787a-1421-4532-aa85-337e7f005a89",
   "metadata": {},
   "outputs": [
    {
     "name": "stdout",
     "output_type": "stream",
     "text": [
      "[1 2 3]\n",
      "[[1 2]\n",
      " [3 4]]\n",
      "[[[1 2]\n",
      "  [3 4]]\n",
      "\n",
      " [[5 6]\n",
      "  [7 8]]]\n"
     ]
    }
   ],
   "source": [
    "import numpy as np\n",
    "\n",
    "# Creating a 1D array\n",
    "x = np.array([1, 2, 3])\n",
    "\n",
    "# Creating a 2D array\n",
    "y = np.array([[1, 2], [3, 4]])\n",
    "\n",
    "# Creating a 3D array\n",
    "z = np.array([[[1, 2], [3, 4]], [[5, 6], [7, 8]]])\n",
    "\n",
    "print(x)\n",
    "print(y)\n",
    "print(z)"
   ]
  },
  {
   "cell_type": "code",
   "execution_count": 3,
   "id": "0799b246-fffe-40f1-b876-d3e466ca47cb",
   "metadata": {},
   "outputs": [
    {
     "name": "stdout",
     "output_type": "stream",
     "text": [
      "Array of 3x3\n",
      "[[0. 0. 0.]\n",
      " [0. 0. 0.]\n",
      " [0. 0. 0.]]\n",
      "Array of 2x2\n",
      "[[1. 1.]\n",
      " [1. 1.]]\n",
      "Array of 1x1 0 to 8\n",
      "[0 2 4 6 8]\n"
     ]
    }
   ],
   "source": [
    "import numpy as np\n",
    "\n",
    "a1_zeros = np.zeros((3, 3))\n",
    "a2_ones = np.ones((2, 2))\n",
    "a3_range = np.arange(0, 10, 2)\n",
    "\n",
    "print(\"Array of 3x3\")\n",
    "print(a1_zeros)\n",
    "print(\"Array of 2x2\")\n",
    "print(a2_ones)\n",
    "print(\"Array of 1x1 0 to 8\")\n",
    "print(a3_range)"
   ]
  },
  {
   "cell_type": "code",
   "execution_count": 4,
   "id": "4ab8b24d-217d-4276-b228-4bf1c2fb4857",
   "metadata": {},
   "outputs": [
    {
     "name": "stdout",
     "output_type": "stream",
     "text": [
      "Single element access: 30\n",
      "Negative indexing: 50\n",
      "Multidimensional array access: 4\n"
     ]
    }
   ],
   "source": [
    "import numpy as np\n",
    "\n",
    "# Create a 1D array\n",
    "arr1d = np.array([10, 20, 30, 40, 50])\n",
    "\n",
    "# Single element access\n",
    "print(\"Single element access:\", arr1d[2])  \n",
    "\n",
    "# Negative indexing\n",
    "print(\"Negative indexing:\", arr1d[-1])  \n",
    "\n",
    "# Create a 2D array\n",
    "arr2d = np.array([[1, 2, 3], [4, 5, 6], [7, 8, 9]])\n",
    "\n",
    "# Multidimensional array access\n",
    "print(\"Multidimensional array access:\", arr2d[1, 0])"
   ]
  },
  {
   "cell_type": "code",
   "execution_count": 5,
   "id": "072eeaf3-7e82-4200-9c7e-fde8ec1397f1",
   "metadata": {},
   "outputs": [
    {
     "name": "stdout",
     "output_type": "stream",
     "text": [
      "Range of Elements: [[4 5 6]]\n",
      "Multidimensional Slicing: [2 5]\n"
     ]
    }
   ],
   "source": [
    "import numpy as np\n",
    "\n",
    "arr = np.array([[1, 2, 3], [4, 5, 6]])\n",
    "#elements from index 1 to 3\n",
    "print(\"Range of Elements:\",arr[1:4])\n",
    "\n",
    "#all rows, second column\n",
    "print(\"Multidimensional Slicing:\", arr[:, 1])"
   ]
  },
  {
   "cell_type": "code",
   "execution_count": 9,
   "id": "98502c38-e96c-4097-a441-4d5693044f9d",
   "metadata": {},
   "outputs": [
    {
     "name": "stdout",
     "output_type": "stream",
     "text": [
      "Integer array indexing: [20 40 60]\n",
      "\n",
      "Elements greater than 0:\n",
      " [ 10  20  30  40  50  60  70  80  90 100]\n"
     ]
    }
   ],
   "source": [
    "import numpy as np\n",
    "arr = np.array([10, 20, 30, 40, 50, 60, 70, 80, 90, 100])\n",
    "\n",
    "# Integer array indexing \n",
    "indices = np.array([1, 3, 5])\n",
    "print (\"Integer array indexing:\", arr[indices]) #arr[1],arr[3], arr[5]\n",
    "\n",
    "# boolean array indexing \n",
    "cond = arr > 0\n",
    "print (\"\\nElements greater than 0:\\n\", arr[cond])"
   ]
  },
  {
   "cell_type": "code",
   "execution_count": 10,
   "id": "1a08aff5-51df-4532-99c5-8ae29742ae4f",
   "metadata": {},
   "outputs": [
    {
     "name": "stdout",
     "output_type": "stream",
     "text": [
      "Addition: [5 7 9]\n",
      "substration: [-3 -3 -3]\n",
      "multiplication: [ 4 10 18]\n",
      "division: [0.25 0.4  0.5 ]\n"
     ]
    }
   ],
   "source": [
    "import numpy as np\n",
    "\n",
    "x = np.array([1, 2, 3])\n",
    "y = np.array([4, 5, 6])\n",
    "\n",
    "# Addition\n",
    "add = x + y  \n",
    "print(\"Addition:\",add)\n",
    "\n",
    "# Subtraction\n",
    "subtract = x - y \n",
    "print(\"substration:\",subtract)\n",
    "\n",
    "# Multiplication\n",
    "multiply = x * y \n",
    "print(\"multiplication:\",multiply)\n",
    "\n",
    "# Division\n",
    "divide = x / y  \n",
    "print(\"division:\", divide)"
   ]
  },
  {
   "cell_type": "code",
   "execution_count": 11,
   "id": "b89db75d-5cb5-4bd1-8cc3-7c59d0f115ed",
   "metadata": {},
   "outputs": [
    {
     "name": "stdout",
     "output_type": "stream",
     "text": [
      "Absolute value: [3 1 0 1 3]\n"
     ]
    }
   ],
   "source": [
    "import numpy as np\n",
    "\n",
    "# Example array with both positive and negative values\n",
    "arr = np.array([-3, -1, 0, 1, 3])\n",
    "\n",
    "# Applying a unary operation: absolute value = means it must be >=0\n",
    "result = np.absolute(arr)\n",
    "print(\"Absolute value:\", result)"
   ]
  },
  {
   "cell_type": "code",
   "execution_count": 12,
   "id": "e61d4434-5c43-453e-a585-1798181e85ec",
   "metadata": {},
   "outputs": [
    {
     "name": "stdout",
     "output_type": "stream",
     "text": [
      "Array 1: [1 2 3]\n",
      "Array 2: [4 5 6]\n",
      "Addition Result: [5 7 9]\n"
     ]
    }
   ],
   "source": [
    "import numpy as np\n",
    "\n",
    "# Two example arrays\n",
    "arr1 = np.array([1, 2, 3])\n",
    "arr2 = np.array([4, 5, 6])\n",
    "\n",
    "# Applying a binary operation: addition\n",
    "result = np.add(arr1, arr2)\n",
    "\n",
    "print(\"Array 1:\", arr1)\n",
    "print(\"Array 2:\", arr2)\n",
    "print(\"Addition Result:\", result)"
   ]
  },
  {
   "cell_type": "code",
   "execution_count": 13,
   "id": "d26fe44c-0221-4932-b77f-e0331e941450",
   "metadata": {},
   "outputs": [
    {
     "name": "stdout",
     "output_type": "stream",
     "text": [
      "Sine values of array elements: [0.0000000e+00 1.0000000e+00 1.2246468e-16]\n",
      "Exponent of array elements: [ 1.          2.71828183  7.3890561  20.08553692]\n",
      "Square root of array elements: [0.         1.         1.41421356 1.73205081]\n"
     ]
    }
   ],
   "source": [
    "#NumPy provides familiar mathematical functions such as sin, cos, exp, etc\n",
    "import numpy as np\n",
    "\n",
    "# create an array of sine values\n",
    "a = np.array([0, np.pi/2, np.pi])\n",
    "print (\"Sine values of array elements:\", np.sin(a))\n",
    "\n",
    "# exponential values\n",
    "a = np.array([0, 1, 2, 3])\n",
    "print (\"Exponent of array elements:\", np.exp(a))\n",
    "\n",
    "# square root of array values\n",
    "print (\"Square root of array elements:\", np.sqrt(a))"
   ]
  },
  {
   "cell_type": "code",
   "execution_count": 16,
   "id": "767162e8-78da-4e28-aeec-f8be4626f6cf",
   "metadata": {},
   "outputs": [
    {
     "name": "stdout",
     "output_type": "stream",
     "text": [
      "\n",
      "Array sorted by names:\n",
      " [(b'Aakash', 2009, 9. ) (b'Ajay', 2008, 8.7) (b'Hrithik', 2009, 8.5)\n",
      " (b'Pankaj', 2008, 7.9)]\n",
      "Array sorted by graduation year and then cgpa:\n",
      " [(b'Pankaj', 2008, 7.9) (b'Ajay', 2008, 8.7) (b'Hrithik', 2009, 8.5)\n",
      " (b'Aakash', 2009, 9. )]\n"
     ]
    }
   ],
   "source": [
    "# We can use a simple np.sort() method for sorting Python NumPy arrays.\n",
    "import numpy as np\n",
    "\n",
    "# set alias names for dtypes\n",
    "dtypes = [('name', 'S10'), ('grad_year', int), ('cgpa', float)]\n",
    "\n",
    "# Values to be put in array\n",
    "values = [('Hrithik', 2009, 8.5), ('Ajay', 2008, 8.7), \n",
    "           ('Pankaj', 2008, 7.9), ('Aakash', 2009, 9.0)]\n",
    "           \n",
    "# Creating array\n",
    "arr = np.array(values, dtype = dtypes)\n",
    "print (\"\\nArray sorted by names:\\n\",\n",
    "            np.sort(arr, order = 'name'))\n",
    "            \n",
    "print (\"Array sorted by graduation year and then cgpa:\\n\",\n",
    "                np.sort(arr, order = ['grad_year', 'cgpa']))\n",
    "\n",
    "# NumPy structured arrays by default store fixed-length strings as byte strings, isiliye b dikh rha \n",
    "# if you want clean output the use 'U10'  in the place of 'S10'"
   ]
  },
  {
   "cell_type": "code",
   "execution_count": 17,
   "id": "ccdac73f-976c-48e5-a5e8-67ffa7390786",
   "metadata": {},
   "outputs": [
    {
     "name": "stdout",
     "output_type": "stream",
     "text": [
      "Array is of type:  <class 'numpy.ndarray'>\n",
      "No. of dimensions:  2\n",
      "Shape of array:  (2, 3)\n",
      "Size of array:  6\n",
      "Array stores elements of type:  int64\n"
     ]
    }
   ],
   "source": [
    "# Python program to demonstrate\n",
    "# basic array characteristics\n",
    "import numpy as np\n",
    "\n",
    "# Creating array object\n",
    "arr = np.array( [[ 1, 2, 3],\n",
    "                [ 4, 2, 5]] )\n",
    "\n",
    "# Printing type of arr object\n",
    "print(\"Array is of type: \", type(arr))\n",
    "\n",
    "# Printing array dimensions (axes)\n",
    "print(\"No. of dimensions: \", arr.ndim)\n",
    "\n",
    "# Printing shape of array\n",
    "print(\"Shape of array: \", arr.shape)\n",
    "\n",
    "# Printing size (total number of elements) of array\n",
    "print(\"Size of array: \", arr.size)\n",
    "\n",
    "# Printing type of elements in array\n",
    "print(\"Array stores elements of type: \", arr.dtype)"
   ]
  },
  {
   "cell_type": "code",
   "execution_count": 18,
   "id": "3c1bdbdd-b91b-4fcf-baa7-c95f24868293",
   "metadata": {},
   "outputs": [
    {
     "name": "stdout",
     "output_type": "stream",
     "text": [
      "List in python :  <class 'list'>\n",
      "Numpy Array in python : <class 'list'>\n"
     ]
    }
   ],
   "source": [
    "import numpy as np\n",
    "\n",
    "list_1 = [1, 2, 3, 4]\n",
    "\n",
    "sample_array = np.array(list)\n",
    "\n",
    "print(\"List in python : \", list)\n",
    "\n",
    "print(\"Numpy Array in python :\",\n",
    "      sample_array)"
   ]
  },
  {
   "cell_type": "code",
   "execution_count": 19,
   "id": "8ff50e63-0041-4c77-b376-fbfc6b220016",
   "metadata": {},
   "outputs": [
    {
     "name": "stdout",
     "output_type": "stream",
     "text": [
      "<class 'list'>\n",
      "<class 'numpy.ndarray'>\n"
     ]
    }
   ],
   "source": [
    "print(type(list_1))\n",
    "\n",
    "print(type(sample_array))"
   ]
  },
  {
   "cell_type": "code",
   "execution_count": 20,
   "id": "3b6f6789-3c3a-4839-ab16-93f38da8e348",
   "metadata": {},
   "outputs": [
    {
     "name": "stdout",
     "output_type": "stream",
     "text": [
      "Numpy multi dimensional array in python\n",
      " [[ 1  2  3  4]\n",
      " [ 5  6  7  8]\n",
      " [ 9 10 11 12]]\n"
     ]
    }
   ],
   "source": [
    "import numpy as np\n",
    "\n",
    "list_1 = [1, 2, 3, 4]\n",
    "list_2 = [5, 6, 7, 8]\n",
    "list_3 = [9, 10, 11, 12]\n",
    "\n",
    "sample_array = np.array([list_1, \n",
    "                         list_2,\n",
    "                         list_3])\n",
    "print(\"Numpy multi dimensional array in python\\n\",\n",
    "      sample_array)"
   ]
  },
  {
   "cell_type": "code",
   "execution_count": 21,
   "id": "4f910826-baed-4224-b491-92ff46fc7861",
   "metadata": {},
   "outputs": [
    {
     "name": "stdout",
     "output_type": "stream",
     "text": [
      "shape of the array : (5, 3)\n"
     ]
    }
   ],
   "source": [
    "import numpy as np\n",
    "sample_array = np.array([[0, 4, 2],\n",
    "                       [3, 4, 5],\n",
    "                       [23, 4, 5],\n",
    "                       [2, 34, 5],\n",
    "                       [5, 6, 7]])\n",
    "\n",
    "print(\"shape of the array :\",\n",
    "      sample_array.shape)"
   ]
  },
  {
   "cell_type": "code",
   "execution_count": 22,
   "id": "c781430d-5da1-483e-a9ec-7304e7fbee27",
   "metadata": {},
   "outputs": [
    {
     "name": "stdout",
     "output_type": "stream",
     "text": [
      "Data type of the array 1 : int64\n",
      "Data type of array 2 : float64\n"
     ]
    }
   ],
   "source": [
    "import numpy as np\n",
    "\n",
    "sample_array_1 = np.array([[0, 4, 2]])\n",
    "\n",
    "sample_array_2 = np.array([0.2, 0.4, 2.4])\n",
    "\n",
    "print(\"Data type of the array 1 :\",\n",
    "      sample_array_1.dtype)\n",
    "\n",
    "print(\"Data type of array 2 :\",\n",
    "      sample_array_2.dtype)"
   ]
  },
  {
   "cell_type": "code",
   "execution_count": 23,
   "id": "e4906438-87e0-4cac-b71f-804dc64c5b35",
   "metadata": {},
   "outputs": [
    {
     "name": "stdout",
     "output_type": "stream",
     "text": [
      "Array : [3 4 5 5]\n"
     ]
    }
   ],
   "source": [
    "import numpy as np\n",
    "\n",
    "arr = np.array([3,4,5,5])\n",
    "\n",
    "print(\"Array :\",arr)"
   ]
  },
  {
   "cell_type": "code",
   "execution_count": 24,
   "id": "6a3a5349-b7f2-4122-b28e-ee0ba918348e",
   "metadata": {},
   "outputs": [
    {
     "name": "stdout",
     "output_type": "stream",
     "text": [
      "fromiter() array : ['G' 'e' 'e' 'k' 'f' 'o' 'r' 'g' 'e' 'e' 'k' 's']\n"
     ]
    }
   ],
   "source": [
    "import numpy as np\n",
    "\n",
    "var = \"Geekforgeeks\"\n",
    "\n",
    "arr = np.fromiter(var, dtype = 'U2')\n",
    "\n",
    "print(\"fromiter() array :\",arr)"
   ]
  },
  {
   "cell_type": "code",
   "execution_count": 25,
   "id": "9d8c87d3-a6e2-400f-8a92-5b30fa393ee9",
   "metadata": {},
   "outputs": [
    {
     "data": {
      "text/plain": [
       "array([ 1.,  3.,  5.,  7.,  9., 11., 13., 15., 17., 19.], dtype=float32)"
      ]
     },
     "execution_count": 25,
     "metadata": {},
     "output_type": "execute_result"
    }
   ],
   "source": [
    "import numpy as np\n",
    "\n",
    "np.arange(1, 20 , 2, dtype = np.float32)"
   ]
  },
  {
   "cell_type": "code",
   "execution_count": null,
   "id": "501d5435-1927-48a0-81e8-048129b94b6e",
   "metadata": {},
   "outputs": [],
   "source": []
  }
 ],
 "metadata": {
  "kernelspec": {
   "display_name": "Python 3 (ipykernel)",
   "language": "python",
   "name": "python3"
  },
  "language_info": {
   "codemirror_mode": {
    "name": "ipython",
    "version": 3
   },
   "file_extension": ".py",
   "mimetype": "text/x-python",
   "name": "python",
   "nbconvert_exporter": "python",
   "pygments_lexer": "ipython3",
   "version": "3.13.5"
  }
 },
 "nbformat": 4,
 "nbformat_minor": 5
}
