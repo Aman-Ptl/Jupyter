{
 "cells": [
  {
   "cell_type": "code",
   "execution_count": 1,
   "id": "3f61787a-1421-4532-aa85-337e7f005a89",
   "metadata": {},
   "outputs": [
    {
     "name": "stdout",
     "output_type": "stream",
     "text": [
      "[1 2 3]\n",
      "[[1 2]\n",
      " [3 4]]\n",
      "[[[1 2]\n",
      "  [3 4]]\n",
      "\n",
      " [[5 6]\n",
      "  [7 8]]]\n"
     ]
    }
   ],
   "source": [
    "import numpy as np\n",
    "\n",
    "# Creating a 1D array\n",
    "x = np.array([1, 2, 3])\n",
    "\n",
    "# Creating a 2D array\n",
    "y = np.array([[1, 2], [3, 4]])\n",
    "\n",
    "# Creating a 3D array\n",
    "z = np.array([[[1, 2], [3, 4]], [[5, 6], [7, 8]]])\n",
    "\n",
    "print(x)\n",
    "print(y)\n",
    "print(z)"
   ]
  },
  {
   "cell_type": "code",
   "execution_count": 3,
   "id": "0799b246-fffe-40f1-b876-d3e466ca47cb",
   "metadata": {},
   "outputs": [
    {
     "name": "stdout",
     "output_type": "stream",
     "text": [
      "Array of 3x3\n",
      "[[0. 0. 0.]\n",
      " [0. 0. 0.]\n",
      " [0. 0. 0.]]\n",
      "Array of 2x2\n",
      "[[1. 1.]\n",
      " [1. 1.]]\n",
      "Array of 1x1 0 to 8\n",
      "[0 2 4 6 8]\n"
     ]
    }
   ],
   "source": [
    "import numpy as np\n",
    "\n",
    "a1_zeros = np.zeros((3, 3))\n",
    "a2_ones = np.ones((2, 2))\n",
    "a3_range = np.arange(0, 10, 2)\n",
    "\n",
    "print(\"Array of 3x3\")\n",
    "print(a1_zeros)\n",
    "print(\"Array of 2x2\")\n",
    "print(a2_ones)\n",
    "print(\"Array of 1x1 0 to 8\")\n",
    "print(a3_range)"
   ]
  },
  {
   "cell_type": "code",
   "execution_count": 4,
   "id": "4ab8b24d-217d-4276-b228-4bf1c2fb4857",
   "metadata": {},
   "outputs": [
    {
     "name": "stdout",
     "output_type": "stream",
     "text": [
      "Single element access: 30\n",
      "Negative indexing: 50\n",
      "Multidimensional array access: 4\n"
     ]
    }
   ],
   "source": [
    "import numpy as np\n",
    "\n",
    "# Create a 1D array\n",
    "arr1d = np.array([10, 20, 30, 40, 50])\n",
    "\n",
    "# Single element access\n",
    "print(\"Single element access:\", arr1d[2])  \n",
    "\n",
    "# Negative indexing\n",
    "print(\"Negative indexing:\", arr1d[-1])  \n",
    "\n",
    "# Create a 2D array\n",
    "arr2d = np.array([[1, 2, 3], [4, 5, 6], [7, 8, 9]])\n",
    "\n",
    "# Multidimensional array access\n",
    "print(\"Multidimensional array access:\", arr2d[1, 0])"
   ]
  },
  {
   "cell_type": "code",
   "execution_count": 5,
   "id": "072eeaf3-7e82-4200-9c7e-fde8ec1397f1",
   "metadata": {},
   "outputs": [
    {
     "name": "stdout",
     "output_type": "stream",
     "text": [
      "Range of Elements: [[4 5 6]]\n",
      "Multidimensional Slicing: [2 5]\n"
     ]
    }
   ],
   "source": [
    "import numpy as np\n",
    "\n",
    "arr = np.array([[1, 2, 3], [4, 5, 6]])\n",
    "#elements from index 1 to 3\n",
    "print(\"Range of Elements:\",arr[1:4])\n",
    "\n",
    "#all rows, second column\n",
    "print(\"Multidimensional Slicing:\", arr[:, 1])"
   ]
  },
  {
   "cell_type": "code",
   "execution_count": 9,
   "id": "98502c38-e96c-4097-a441-4d5693044f9d",
   "metadata": {},
   "outputs": [
    {
     "name": "stdout",
     "output_type": "stream",
     "text": [
      "Integer array indexing: [20 40 60]\n",
      "\n",
      "Elements greater than 0:\n",
      " [ 10  20  30  40  50  60  70  80  90 100]\n"
     ]
    }
   ],
   "source": [
    "import numpy as np\n",
    "arr = np.array([10, 20, 30, 40, 50, 60, 70, 80, 90, 100])\n",
    "\n",
    "# Integer array indexing \n",
    "indices = np.array([1, 3, 5])\n",
    "print (\"Integer array indexing:\", arr[indices]) #arr[1],arr[3], arr[5]\n",
    "\n",
    "# boolean array indexing \n",
    "cond = arr > 0\n",
    "print (\"\\nElements greater than 0:\\n\", arr[cond])"
   ]
  },
  {
   "cell_type": "code",
   "execution_count": 10,
   "id": "1a08aff5-51df-4532-99c5-8ae29742ae4f",
   "metadata": {},
   "outputs": [
    {
     "name": "stdout",
     "output_type": "stream",
     "text": [
      "Addition: [5 7 9]\n",
      "substration: [-3 -3 -3]\n",
      "multiplication: [ 4 10 18]\n",
      "division: [0.25 0.4  0.5 ]\n"
     ]
    }
   ],
   "source": [
    "import numpy as np\n",
    "\n",
    "x = np.array([1, 2, 3])\n",
    "y = np.array([4, 5, 6])\n",
    "\n",
    "# Addition\n",
    "add = x + y  \n",
    "print(\"Addition:\",add)\n",
    "\n",
    "# Subtraction\n",
    "subtract = x - y \n",
    "print(\"substration:\",subtract)\n",
    "\n",
    "# Multiplication\n",
    "multiply = x * y \n",
    "print(\"multiplication:\",multiply)\n",
    "\n",
    "# Division\n",
    "divide = x / y  \n",
    "print(\"division:\", divide)"
   ]
  },
  {
   "cell_type": "code",
   "execution_count": 11,
   "id": "b89db75d-5cb5-4bd1-8cc3-7c59d0f115ed",
   "metadata": {},
   "outputs": [
    {
     "name": "stdout",
     "output_type": "stream",
     "text": [
      "Absolute value: [3 1 0 1 3]\n"
     ]
    }
   ],
   "source": [
    "import numpy as np\n",
    "\n",
    "# Example array with both positive and negative values\n",
    "arr = np.array([-3, -1, 0, 1, 3])\n",
    "\n",
    "# Applying a unary operation: absolute value = means it must be >=0\n",
    "result = np.absolute(arr)\n",
    "print(\"Absolute value:\", result)"
   ]
  },
  {
   "cell_type": "code",
   "execution_count": 12,
   "id": "e61d4434-5c43-453e-a585-1798181e85ec",
   "metadata": {},
   "outputs": [
    {
     "name": "stdout",
     "output_type": "stream",
     "text": [
      "Array 1: [1 2 3]\n",
      "Array 2: [4 5 6]\n",
      "Addition Result: [5 7 9]\n"
     ]
    }
   ],
   "source": [
    "import numpy as np\n",
    "\n",
    "# Two example arrays\n",
    "arr1 = np.array([1, 2, 3])\n",
    "arr2 = np.array([4, 5, 6])\n",
    "\n",
    "# Applying a binary operation: addition\n",
    "result = np.add(arr1, arr2)\n",
    "\n",
    "print(\"Array 1:\", arr1)\n",
    "print(\"Array 2:\", arr2)\n",
    "print(\"Addition Result:\", result)"
   ]
  },
  {
   "cell_type": "code",
   "execution_count": 13,
   "id": "d26fe44c-0221-4932-b77f-e0331e941450",
   "metadata": {},
   "outputs": [
    {
     "name": "stdout",
     "output_type": "stream",
     "text": [
      "Sine values of array elements: [0.0000000e+00 1.0000000e+00 1.2246468e-16]\n",
      "Exponent of array elements: [ 1.          2.71828183  7.3890561  20.08553692]\n",
      "Square root of array elements: [0.         1.         1.41421356 1.73205081]\n"
     ]
    }
   ],
   "source": [
    "#NumPy provides familiar mathematical functions such as sin, cos, exp, etc\n",
    "import numpy as np\n",
    "\n",
    "# create an array of sine values\n",
    "a = np.array([0, np.pi/2, np.pi])\n",
    "print (\"Sine values of array elements:\", np.sin(a))\n",
    "\n",
    "# exponential values\n",
    "a = np.array([0, 1, 2, 3])\n",
    "print (\"Exponent of array elements:\", np.exp(a))\n",
    "\n",
    "# square root of array values\n",
    "print (\"Square root of array elements:\", np.sqrt(a))"
   ]
  },
  {
   "cell_type": "code",
   "execution_count": 16,
   "id": "767162e8-78da-4e28-aeec-f8be4626f6cf",
   "metadata": {},
   "outputs": [
    {
     "name": "stdout",
     "output_type": "stream",
     "text": [
      "\n",
      "Array sorted by names:\n",
      " [(b'Aakash', 2009, 9. ) (b'Ajay', 2008, 8.7) (b'Hrithik', 2009, 8.5)\n",
      " (b'Pankaj', 2008, 7.9)]\n",
      "Array sorted by graduation year and then cgpa:\n",
      " [(b'Pankaj', 2008, 7.9) (b'Ajay', 2008, 8.7) (b'Hrithik', 2009, 8.5)\n",
      " (b'Aakash', 2009, 9. )]\n"
     ]
    }
   ],
   "source": [
    "# We can use a simple np.sort() method for sorting Python NumPy arrays.\n",
    "import numpy as np\n",
    "\n",
    "# set alias names for dtypes\n",
    "dtypes = [('name', 'S10'), ('grad_year', int), ('cgpa', float)]\n",
    "\n",
    "# Values to be put in array\n",
    "values = [('Hrithik', 2009, 8.5), ('Ajay', 2008, 8.7), \n",
    "           ('Pankaj', 2008, 7.9), ('Aakash', 2009, 9.0)]\n",
    "           \n",
    "# Creating array\n",
    "arr = np.array(values, dtype = dtypes)\n",
    "print (\"\\nArray sorted by names:\\n\",\n",
    "            np.sort(arr, order = 'name'))\n",
    "            \n",
    "print (\"Array sorted by graduation year and then cgpa:\\n\",\n",
    "                np.sort(arr, order = ['grad_year', 'cgpa']))\n",
    "\n",
    "# NumPy structured arrays by default store fixed-length strings as byte strings, isiliye b dikh rha \n",
    "# if you want clean output the use 'U10'  in the place of 'S10'"
   ]
  },
  {
   "cell_type": "code",
   "execution_count": 17,
   "id": "ccdac73f-976c-48e5-a5e8-67ffa7390786",
   "metadata": {},
   "outputs": [
    {
     "name": "stdout",
     "output_type": "stream",
     "text": [
      "Array is of type:  <class 'numpy.ndarray'>\n",
      "No. of dimensions:  2\n",
      "Shape of array:  (2, 3)\n",
      "Size of array:  6\n",
      "Array stores elements of type:  int64\n"
     ]
    }
   ],
   "source": [
    "# Python program to demonstrate\n",
    "# basic array characteristics\n",
    "import numpy as np\n",
    "\n",
    "# Creating array object\n",
    "arr = np.array( [[ 1, 2, 3],\n",
    "                [ 4, 2, 5]] )\n",
    "\n",
    "# Printing type of arr object\n",
    "print(\"Array is of type: \", type(arr))\n",
    "\n",
    "# Printing array dimensions (axes)\n",
    "print(\"No. of dimensions: \", arr.ndim)\n",
    "\n",
    "# Printing shape of array\n",
    "print(\"Shape of array: \", arr.shape)\n",
    "\n",
    "# Printing size (total number of elements) of array\n",
    "print(\"Size of array: \", arr.size)\n",
    "\n",
    "# Printing type of elements in array\n",
    "print(\"Array stores elements of type: \", arr.dtype)"
   ]
  },
  {
   "cell_type": "code",
   "execution_count": 18,
   "id": "3c1bdbdd-b91b-4fcf-baa7-c95f24868293",
   "metadata": {},
   "outputs": [
    {
     "name": "stdout",
     "output_type": "stream",
     "text": [
      "List in python :  <class 'list'>\n",
      "Numpy Array in python : <class 'list'>\n"
     ]
    }
   ],
   "source": [
    "import numpy as np\n",
    "\n",
    "list_1 = [1, 2, 3, 4]\n",
    "\n",
    "sample_array = np.array(list)\n",
    "\n",
    "print(\"List in python : \", list)\n",
    "\n",
    "print(\"Numpy Array in python :\",\n",
    "      sample_array)"
   ]
  },
  {
   "cell_type": "code",
   "execution_count": 19,
   "id": "8ff50e63-0041-4c77-b376-fbfc6b220016",
   "metadata": {},
   "outputs": [
    {
     "name": "stdout",
     "output_type": "stream",
     "text": [
      "<class 'list'>\n",
      "<class 'numpy.ndarray'>\n"
     ]
    }
   ],
   "source": [
    "print(type(list_1))\n",
    "\n",
    "print(type(sample_array))"
   ]
  },
  {
   "cell_type": "code",
   "execution_count": 20,
   "id": "3b6f6789-3c3a-4839-ab16-93f38da8e348",
   "metadata": {},
   "outputs": [
    {
     "name": "stdout",
     "output_type": "stream",
     "text": [
      "Numpy multi dimensional array in python\n",
      " [[ 1  2  3  4]\n",
      " [ 5  6  7  8]\n",
      " [ 9 10 11 12]]\n"
     ]
    }
   ],
   "source": [
    "import numpy as np\n",
    "\n",
    "list_1 = [1, 2, 3, 4]\n",
    "list_2 = [5, 6, 7, 8]\n",
    "list_3 = [9, 10, 11, 12]\n",
    "\n",
    "sample_array = np.array([list_1, \n",
    "                         list_2,\n",
    "                         list_3])\n",
    "print(\"Numpy multi dimensional array in python\\n\",\n",
    "      sample_array)"
   ]
  },
  {
   "cell_type": "code",
   "execution_count": 21,
   "id": "4f910826-baed-4224-b491-92ff46fc7861",
   "metadata": {},
   "outputs": [
    {
     "name": "stdout",
     "output_type": "stream",
     "text": [
      "shape of the array : (5, 3)\n"
     ]
    }
   ],
   "source": [
    "import numpy as np\n",
    "sample_array = np.array([[0, 4, 2],\n",
    "                       [3, 4, 5],\n",
    "                       [23, 4, 5],\n",
    "                       [2, 34, 5],\n",
    "                       [5, 6, 7]])\n",
    "\n",
    "print(\"shape of the array :\",\n",
    "      sample_array.shape)"
   ]
  },
  {
   "cell_type": "code",
   "execution_count": 22,
   "id": "c781430d-5da1-483e-a9ec-7304e7fbee27",
   "metadata": {},
   "outputs": [
    {
     "name": "stdout",
     "output_type": "stream",
     "text": [
      "Data type of the array 1 : int64\n",
      "Data type of array 2 : float64\n"
     ]
    }
   ],
   "source": [
    "import numpy as np\n",
    "\n",
    "sample_array_1 = np.array([[0, 4, 2]])\n",
    "\n",
    "sample_array_2 = np.array([0.2, 0.4, 2.4])\n",
    "\n",
    "print(\"Data type of the array 1 :\",\n",
    "      sample_array_1.dtype)\n",
    "\n",
    "print(\"Data type of array 2 :\",\n",
    "      sample_array_2.dtype)"
   ]
  },
  {
   "cell_type": "code",
   "execution_count": 23,
   "id": "e4906438-87e0-4cac-b71f-804dc64c5b35",
   "metadata": {},
   "outputs": [
    {
     "name": "stdout",
     "output_type": "stream",
     "text": [
      "Array : [3 4 5 5]\n"
     ]
    }
   ],
   "source": [
    "import numpy as np\n",
    "\n",
    "arr = np.array([3,4,5,5])\n",
    "\n",
    "print(\"Array :\",arr)"
   ]
  },
  {
   "cell_type": "code",
   "execution_count": 24,
   "id": "6a3a5349-b7f2-4122-b28e-ee0ba918348e",
   "metadata": {},
   "outputs": [
    {
     "name": "stdout",
     "output_type": "stream",
     "text": [
      "fromiter() array : ['G' 'e' 'e' 'k' 'f' 'o' 'r' 'g' 'e' 'e' 'k' 's']\n"
     ]
    }
   ],
   "source": [
    "import numpy as np\n",
    "\n",
    "var = \"Geekforgeeks\"\n",
    "\n",
    "arr = np.fromiter(var, dtype = 'U2')\n",
    "\n",
    "print(\"fromiter() array :\",arr)"
   ]
  },
  {
   "cell_type": "code",
   "execution_count": 25,
   "id": "9d8c87d3-a6e2-400f-8a92-5b30fa393ee9",
   "metadata": {},
   "outputs": [
    {
     "data": {
      "text/plain": [
       "array([ 1.,  3.,  5.,  7.,  9., 11., 13., 15., 17., 19.], dtype=float32)"
      ]
     },
     "execution_count": 25,
     "metadata": {},
     "output_type": "execute_result"
    }
   ],
   "source": [
    "import numpy as np\n",
    "\n",
    "np.arange(1, 20 , 2, dtype = np.float32)"
   ]
  },
  {
   "cell_type": "code",
   "execution_count": 26,
   "id": "501d5435-1927-48a0-81e8-048129b94b6e",
   "metadata": {},
   "outputs": [
    {
     "data": {
      "text/plain": [
       "array([ 3,  6, 10], dtype=int32)"
      ]
     },
     "execution_count": 26,
     "metadata": {},
     "output_type": "execute_result"
    }
   ],
   "source": [
    "import numpy as np\n",
    "\n",
    "np.linspace(3.5, 10, 3, \n",
    "            dtype = np.int32)"
   ]
  },
  {
   "cell_type": "code",
   "execution_count": 27,
   "id": "c12545ad-5919-488c-948f-85f684d33028",
   "metadata": {},
   "outputs": [
    {
     "data": {
      "text/plain": [
       "array([[1, 3, 2],\n",
       "       [0, 0, 0],\n",
       "       [2, 4, 5],\n",
       "       [0, 0, 0]], dtype=int32)"
      ]
     },
     "execution_count": 27,
     "metadata": {},
     "output_type": "execute_result"
    }
   ],
   "source": [
    "import numpy as np\n",
    "\n",
    "np.empty([4, 3],\n",
    "         dtype = np.int32,\n",
    "         order = 'f')"
   ]
  },
  {
   "cell_type": "code",
   "execution_count": 28,
   "id": "9895bedc-a9e0-4646-9411-e236861647a9",
   "metadata": {},
   "outputs": [
    {
     "data": {
      "text/plain": [
       "array([[1, 1, 1],\n",
       "       [1, 1, 1],\n",
       "       [1, 1, 1],\n",
       "       [1, 1, 1]], dtype=int32)"
      ]
     },
     "execution_count": 28,
     "metadata": {},
     "output_type": "execute_result"
    }
   ],
   "source": [
    "import numpy as np\n",
    "\n",
    "np.ones([4, 3],\n",
    "        dtype = np.int32,\n",
    "        order = 'f')"
   ]
  },
  {
   "cell_type": "code",
   "execution_count": 29,
   "id": "c6fe264f-222b-451f-b69e-437235bc6058",
   "metadata": {},
   "outputs": [
    {
     "data": {
      "text/plain": [
       "array([[0, 0, 0],\n",
       "       [0, 0, 0],\n",
       "       [0, 0, 0],\n",
       "       [0, 0, 0]], dtype=int32)"
      ]
     },
     "execution_count": 29,
     "metadata": {},
     "output_type": "execute_result"
    }
   ],
   "source": [
    "import numpy as np\n",
    "np.zeros([4, 3], \n",
    "         dtype = np.int32,\n",
    "         order = 'f')"
   ]
  },
  {
   "cell_type": "code",
   "execution_count": 30,
   "id": "e9fcabb4-dc00-4f92-9b15-ed779d91d61b",
   "metadata": {},
   "outputs": [
    {
     "name": "stdout",
     "output_type": "stream",
     "text": [
      "Zero Array: \n",
      " [[0. 0. 0.]\n",
      " [0. 0. 0.]]\n",
      "Ones Array: \n",
      " [[1. 1. 1.]\n",
      " [1. 1. 1.]\n",
      " [1. 1. 1.]]\n",
      "Constant Array: \n",
      " [[7 7]\n",
      " [7 7]]\n",
      "Range Array: \n",
      " [0 2 4 6 8]\n",
      "Linspace Array: \n",
      " [0.   0.25 0.5  0.75 1.  ]\n"
     ]
    }
   ],
   "source": [
    "import numpy as np\n",
    "\n",
    "zeros_array = np.zeros((2, 3))\n",
    "ones_array = np.ones((3, 3))\n",
    "constant_array = np.full((2, 2), 7)\n",
    "range_array = np.arange(0, 10, 2)  # start, stop, step\n",
    "linspace_array = np.linspace(0, 1, 5)  # start, stop, num\n",
    "\n",
    "print(\"Zero Array:\",\"\\n\",zeros_array)\n",
    "print(\"Ones Array:\",\"\\n\",ones_array)\n",
    "print(\"Constant Array:\",\"\\n\",constant_array)\n",
    "print(\"Range Array:\",\"\\n\",range_array)\n",
    "print(\"Linspace Array:\",\"\\n\",linspace_array)"
   ]
  },
  {
   "cell_type": "code",
   "execution_count": 31,
   "id": "eb176013-79c0-4f2d-bd48-426e99796c14",
   "metadata": {},
   "outputs": [
    {
     "name": "stdout",
     "output_type": "stream",
     "text": [
      "[[0.02760504 0.6247808  0.84743562]\n",
      " [0.15279878 0.11785099 0.54882874]]\n",
      "[[-0.66640082 -0.84969616]\n",
      " [-1.14477038  0.45573457]]\n",
      "[[2 7 3]\n",
      " [2 4 5]]\n"
     ]
    }
   ],
   "source": [
    "import numpy as np\n",
    "\n",
    "random_array = np.random.rand(2, 3)\n",
    "normal_array = np.random.randn(2, 2)\n",
    "randint_array = np.random.randint(1, 10, size=(2, 3))  \n",
    "\n",
    "print(random_array)\n",
    "print(normal_array)\n",
    "print(randint_array)"
   ]
  },
  {
   "cell_type": "code",
   "execution_count": 32,
   "id": "1fd7aadb-c4a7-4736-8243-b6be560fede7",
   "metadata": {},
   "outputs": [
    {
     "name": "stdout",
     "output_type": "stream",
     "text": [
      "[[1. 0. 0.]\n",
      " [0. 1. 0.]\n",
      " [0. 0. 1.]]\n",
      "[[1 0 0]\n",
      " [0 2 0]\n",
      " [0 0 3]]\n",
      "[[0 0 0]\n",
      " [0 0 0]\n",
      " [0 0 0]]\n",
      "[[1 1 1]\n",
      " [1 1 1]\n",
      " [1 1 1]]\n"
     ]
    }
   ],
   "source": [
    "import numpy as np\n",
    "\n",
    "identity_matrix = np.eye(3)\n",
    "diagonal_array = np.diag([1, 2, 3])\n",
    "zeros_like_array = np.zeros_like(diagonal_array)\n",
    "ones_like_array = np.ones_like(diagonal_array)\n",
    "\n",
    "print(identity_matrix)\n",
    "print(diagonal_array)\n",
    "print(zeros_like_array)\n",
    "print(ones_like_array)"
   ]
  },
  {
   "cell_type": "code",
   "execution_count": 39,
   "id": "6e3f0a3a-cc3c-4853-b108-c6a214047d7b",
   "metadata": {},
   "outputs": [
    {
     "name": "stdout",
     "output_type": "stream",
     "text": [
      "10\n"
     ]
    }
   ],
   "source": [
    "# Accessing Elements in 1D Arrays\n",
    "import numpy as np\n",
    "\n",
    "arr = np.array([10, 20, 30, 40, 50])\n",
    "\n",
    "print(arr[0])"
   ]
  },
  {
   "cell_type": "code",
   "execution_count": 40,
   "id": "8e95d95d-b033-4bd2-8222-f5a81ddc0256",
   "metadata": {},
   "outputs": [
    {
     "name": "stdout",
     "output_type": "stream",
     "text": [
      "6\n"
     ]
    }
   ],
   "source": [
    "# Accessing Elements in Multidimensional Arrays\n",
    "import numpy as np \n",
    "\n",
    "matrix = np.array([[1, 2, 3], [4, 5, 6], [7, 8, 9]])\n",
    "\n",
    "print(matrix[1, 2])"
   ]
  },
  {
   "cell_type": "code",
   "execution_count": 41,
   "id": "b5bb32c7-734e-45e6-b494-eb8f44544f87",
   "metadata": {},
   "outputs": [
    {
     "name": "stdout",
     "output_type": "stream",
     "text": [
      "16\n"
     ]
    }
   ],
   "source": [
    "# We can access elements by specifying row, column and depth indices like matrix[depth, row, column].\n",
    "import numpy as np\n",
    "\n",
    "cube = np.array([[[1, 2, 3],\n",
    "                  [4, 5, 6],\n",
    "                  [7, 8, 9]],\n",
    "                 \n",
    "                 [[10, 11, 12],\n",
    "                  [13, 14, 15],\n",
    "                  [16, 17, 18]]])\n",
    "\n",
    "print(cube[1, 2, 0])"
   ]
  },
  {
   "cell_type": "code",
   "execution_count": 42,
   "id": "8f6bab52-7139-4244-967b-1e346c26b07c",
   "metadata": {},
   "outputs": [
    {
     "name": "stdout",
     "output_type": "stream",
     "text": [
      "[1 2 3]\n"
     ]
    }
   ],
   "source": [
    "# Slicing Arrays\n",
    "import numpy as np\n",
    "\n",
    "arr = np.array([0, 1, 2, 3, 4, 5])\n",
    "\n",
    "print(arr[1:4])"
   ]
  },
  {
   "cell_type": "code",
   "execution_count": 37,
   "id": "e37a507b-eb84-43a4-8c27-593aec761005",
   "metadata": {},
   "outputs": [
    {
     "name": "stdout",
     "output_type": "stream",
     "text": [
      "[[2 3]\n",
      " [5 6]]\n"
     ]
    }
   ],
   "source": [
    "# Slicing Multidimensional Arrays\n",
    "import numpy as np\n",
    "\n",
    "matrix = np.array([[1, 2, 3], [4, 5, 6], [7, 8, 9]])\n",
    "\n",
    "print(matrix[0:2, 1:3])"
   ]
  },
  {
   "cell_type": "code",
   "execution_count": 43,
   "id": "661249d7-2a00-4b6b-bd33-93ec7771adfc",
   "metadata": {},
   "outputs": [
    {
     "name": "stdout",
     "output_type": "stream",
     "text": [
      "[25 30]\n"
     ]
    }
   ],
   "source": [
    "# Boolean Indexing\n",
    "import numpy as np\n",
    "\n",
    "arr = np.array([10, 15, 20, 25, 30])\n",
    "\n",
    "print(arr[arr > 20])"
   ]
  },
  {
   "cell_type": "code",
   "execution_count": 44,
   "id": "46a3377e-b520-4d5b-b9b5-ea03f98f5c81",
   "metadata": {},
   "outputs": [
    {
     "name": "stdout",
     "output_type": "stream",
     "text": [
      "[10 30 50]\n"
     ]
    }
   ],
   "source": [
    "#Fancy Indexing\n",
    "import numpy as np\n",
    "arr = np.array([10, 20, 30, 40, 50])\n",
    "indices = [0, 2, 4]\n",
    "print(arr[indices])"
   ]
  },
  {
   "cell_type": "code",
   "execution_count": 50,
   "id": "e2afc8b4-b563-4e55-8640-6d38877b1f57",
   "metadata": {},
   "outputs": [],
   "source": [
    "# NumPy Array Broadcasting\n",
    "\n",
    "# Broadcasting in NumPy allows us to perform \n",
    "# arithmetic operations on arrays of different shapes without reshaping them. \n",
    "# It automatically adjusts the smaller array to match the larger arrays shape by replicating its values along the necessary dimensions.\n",
    "# This makes element-wise operations more efficient by reducing memory usage and eliminating the need for loops. "
   ]
  },
  {
   "cell_type": "code",
   "execution_count": 51,
   "id": "6f41809c-592e-4dc7-bc26-3275140dde7f",
   "metadata": {},
   "outputs": [
    {
     "name": "stdout",
     "output_type": "stream",
     "text": [
      "Rank of A: 3\n",
      "\n",
      "Trace of A: 11\n",
      "\n",
      "Determinant of A: -306.0\n",
      "\n",
      "Inverse of A:\n",
      " [[ 0.17647059 -0.00326797 -0.02287582]\n",
      " [ 0.05882353 -0.13071895  0.08496732]\n",
      " [-0.11764706  0.1503268   0.05228758]]\n",
      "\n",
      "Matrix A raised to power 3:\n",
      " [[336 162 228]\n",
      " [406 162 469]\n",
      " [698 702 905]]\n"
     ]
    }
   ],
   "source": [
    "# Numpy | Linear Algebra\n",
    "\n",
    "# Importing numpy as np\n",
    "import numpy as np\n",
    " \n",
    "A = np.array([[6, 1, 1],\n",
    "              [4, -2, 5],\n",
    "              [2, 8, 7]])\n",
    " \n",
    "# Rank of a matrix\n",
    "print(\"Rank of A:\", np.linalg.matrix_rank(A))\n",
    " \n",
    "# Trace of matrix A\n",
    "print(\"\\nTrace of A:\", np.trace(A))\n",
    " \n",
    "# Determinant of a matrix\n",
    "print(\"\\nDeterminant of A:\", np.linalg.det(A))\n",
    " \n",
    "# Inverse of matrix A\n",
    "print(\"\\nInverse of A:\\n\", np.linalg.inv(A))\n",
    " \n",
    "print(\"\\nMatrix A raised to power 3:\\n\",\n",
    "           np.linalg.matrix_power(A, 3))"
   ]
  },
  {
   "cell_type": "code",
   "execution_count": 52,
   "id": "db8155b9-af6a-400c-bfbc-2459d788a14a",
   "metadata": {},
   "outputs": [
    {
     "name": "stdout",
     "output_type": "stream",
     "text": [
      "Array is: [[ 1.+0.j -0.-2.j]\n",
      " [ 0.+2.j  5.+0.j]]\n",
      "Eigenvalues are: [0.17157288 5.82842712]\n",
      "Eigenvectors are: [[-0.92387953+0.j         -0.38268343+0.j        ]\n",
      " [ 0.        +0.38268343j  0.        -0.92387953j]]\n"
     ]
    }
   ],
   "source": [
    "import numpy as np\n",
    "from numpy import linalg as geek\n",
    "\n",
    "# Creating an array using array function\n",
    "a = np.array([[1, -2j], [2j, 5]])\n",
    "\n",
    "print(\"Array is:\", a)\n",
    "\n",
    "# Calculating eigenvalues and eigenvectors using eigh() function\n",
    "c, d = geek.eigh(a)\n",
    "\n",
    "print(\"Eigenvalues are:\", c)\n",
    "print(\"Eigenvectors are:\", d)"
   ]
  },
  {
   "cell_type": "code",
   "execution_count": 53,
   "id": "93114f67-4b44-468c-96ef-b0fd0ea224ff",
   "metadata": {},
   "outputs": [
    {
     "name": "stdout",
     "output_type": "stream",
     "text": [
      "Dot Product of scalar values  :  20\n",
      "Dot Product  :  (-7+22j)\n"
     ]
    }
   ],
   "source": [
    "# Python Program illustrating\n",
    "# numpy.dot() method\n",
    " \n",
    "import numpy as geek\n",
    " \n",
    "# Scalars\n",
    "product = geek.dot(5, 4)\n",
    "print(\"Dot Product of scalar values  : \", product)\n",
    " \n",
    "# 1D array\n",
    "vector_a = 2 + 3j\n",
    "vector_b = 4 + 5j\n",
    " \n",
    "product = geek.dot(vector_a, vector_b)\n",
    "print(\"Dot Product  : \", product)"
   ]
  },
  {
   "cell_type": "code",
   "execution_count": 54,
   "id": "50408ca5-e9e0-4743-88ce-871bad97ff64",
   "metadata": {},
   "outputs": [
    {
     "name": "stdout",
     "output_type": "stream",
     "text": [
      "[[ 1  2  3  4  5]\n",
      " [ 6  7  8  9 10]\n",
      " [11 12 13 14 15]\n",
      " [16 17 18 19 20]\n",
      " [21 22 23 24 25]]\n"
     ]
    }
   ],
   "source": [
    "# Q create a 5*5 matrix with values 1 to 25\n",
    "import numpy as np\n",
    "\n",
    "# create 1D array from 1 to 25\n",
    "arr = np.arange(1, 26)\n",
    "\n",
    "# reshape into 5x5 matrix\n",
    "matrix = arr.reshape(5, 5)\n",
    "\n",
    "print(matrix)\n",
    "\n"
   ]
  },
  {
   "cell_type": "code",
   "execution_count": 55,
   "id": "e01e31d5-0835-4a04-9422-1430af299af2",
   "metadata": {},
   "outputs": [
    {
     "name": "stdout",
     "output_type": "stream",
     "text": [
      "Middle value is 3x3: \n",
      " [[ 7  8  9]\n",
      " [12 13 14]\n",
      " [17 18 19]]\n"
     ]
    }
   ],
   "source": [
    "mid = matrix[1:4,1:4]\n",
    "print(\"Middle value is 3x3: \\n\", mid)"
   ]
  },
  {
   "cell_type": "code",
   "execution_count": 56,
   "id": "ed94965e-77c1-445e-b70e-750ec070ae36",
   "metadata": {},
   "outputs": [
    {
     "name": "stdout",
     "output_type": "stream",
     "text": [
      "Row wise sum is: \n",
      " [ 15  40  65  90 115]\n"
     ]
    }
   ],
   "source": [
    "row_sum=np.sum(matrix, axis=1)\n",
    "print(\"Row wise sum is: \\n\",row_sum)"
   ]
  },
  {
   "cell_type": "code",
   "execution_count": 57,
   "id": "63b2a3bf-251d-43db-a1c5-0f4243037f27",
   "metadata": {},
   "outputs": [
    {
     "name": "stdout",
     "output_type": "stream",
     "text": [
      "Coloumn wise sum is: \n",
      " [55 60 65 70 75]\n"
     ]
    }
   ],
   "source": [
    "col_sum=np.sum(matrix, axis=0)\n",
    "print(\"Coloumn wise sum is: \\n\",col_sum)"
   ]
  },
  {
   "cell_type": "code",
   "execution_count": null,
   "id": "95898d0a-bd22-4ef1-b464-2ac16c50eac3",
   "metadata": {},
   "outputs": [],
   "source": []
  }
 ],
 "metadata": {
  "kernelspec": {
   "display_name": "Python 3 (ipykernel)",
   "language": "python",
   "name": "python3"
  },
  "language_info": {
   "codemirror_mode": {
    "name": "ipython",
    "version": 3
   },
   "file_extension": ".py",
   "mimetype": "text/x-python",
   "name": "python",
   "nbconvert_exporter": "python",
   "pygments_lexer": "ipython3",
   "version": "3.13.5"
  }
 },
 "nbformat": 4,
 "nbformat_minor": 5
}
