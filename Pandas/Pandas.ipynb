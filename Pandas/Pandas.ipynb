{
 "cells": [
  {
   "cell_type": "markdown",
   "id": "f6dd7c10-0313-48e6-b185-07c3ff7e6632",
   "metadata": {},
   "source": [
    "# Pandas:\n",
    "\n",
    "## Data Handling in python: A deep dive into pandas Series and Data Frame\n",
    "\n",
    "**This notebook covers**\n",
    "\n",
    "- pandas data structure: Series and Data Frame* \n",
    "- handling Data Frame: Loading, inspecting and modifying Data*\n",
    "- different ways to read csv file*"
   ]
  },
  {
   "cell_type": "markdown",
   "id": "54c3ed52-b94e-4dfa-9d08-741415d2035e",
   "metadata": {},
   "source": [
    "## Basic data structures in pandas\n",
    "**Pandas provides two types of classes for handling data:**\n",
    "\n",
    "- Series: a one-dimensional labeled array holding data of any type\n",
    "- such as integers, strings, Python objects etc.\n",
    "\n",
    "- DataFrame: a two-dimensional data structure that holds data like a two-dimension array or a table with rows and columns."
   ]
  },
  {
   "cell_type": "markdown",
   "id": "51da866a-3673-4d18-9cec-452ee8519ed9",
   "metadata": {},
   "source": [
    "# 📊 Pandas\n",
    "\n",
    "## Data Handling in Python: A Deep Dive into Pandas **Series** and **DataFrame**\n",
    "\n",
    "---\n",
    "\n",
    "### ✅ This Notebook Covers:\n",
    "- **Pandas Data Structures: Series and DataFrame**  \n",
    "- **Handling DataFrame: Loading, Inspecting, and Modifying Data**  \n",
    "- **Different Ways to Read CSV Files**  \n",
    "\n",
    "---\n",
    "\n",
    "## 🔹 1. Pandas Data Structures  \n",
    "\n",
    "| Structure  | Description | Example |\n",
    "|------------|-------------|---------|\n",
    "| **Series** | 1-D labeled array (like a column in Excel or table) | `pd.Series([10,20,30])` |\n",
    "| **DataFrame** | 2-D labeled data structure with rows & columns (like Excel sheet / SQL table) | `pd.DataFrame({\"Name\":[\"A\",\"B\"], \"Age\":[20,25]})` |\n",
    "\n",
    "---\n",
    "\n",
    "## 🔹 2. Handling DataFrame  \n",
    "\n",
    "| Operation | Code Example | Purpose |\n",
    "|-----------|-------------|---------|\n",
    "| **Load Data** | `df = pd.read_csv(\"data.csv\")` | Load data from CSV file |\n",
    "| **Inspect Data** | `df.head()`, `df.tail()`, `df.info()`, `df.describe()` | Quick look at data |\n",
    "| **Shape of Data** | `df.shape` | Rows × Columns |\n",
    "| **Column Names** | `df.columns` | List all column names |\n",
    "| **Select Column** | `df[\"Name\"]` | Access one column |\n",
    "| **Select Row** | `df.loc[0]`, `df.iloc[0]` | Access by label or index |\n",
    "| **Filter Rows** | `df[df[\"Age\"] > 25]` | Apply condition |\n",
    "| **Add Column** | `df[\"NewCol\"] = df[\"Age\"] * 2` | Create new column |\n",
    "| **Drop Column** | `df.drop(\"ColName\", axis=1, inplace=True)` | Remove a column |\n",
    "\n",
    "---\n",
    "\n",
    "## 🔹 3. Different Ways to Read CSV Files  \n",
    "\n",
    "| Method | Code Example |\n",
    "|--------|--------------|\n",
    "| **Default Read** | `pd.read_csv(\"data.csv\")` |\n",
    "| **With Index Column** | `pd.read_csv(\"data.csv\", index_col=0)` |\n",
    "| **Select Specific Columns** | `pd.read_csv(\"data.csv\", usecols=[\"Name\",\"Age\"])` |\n",
    "| **With Separator** | `pd.read_csv(\"data.tsv\", sep=\"\\t\")` |\n",
    "| **Read Large Files in Chunks** | `pd.read_csv(\"data.csv\", chunksize=1000)` |\n",
    "\n",
    "---\n",
    "\n",
    "⚡ With Pandas, you can handle **large datasets efficiently**, perform **data cleaning**, and prepare data for **analysis or ML models**.  \n"
   ]
  },
  {
   "cell_type": "markdown",
   "id": "fab88772-0d89-49a2-8287-bc7f58b89bbd",
   "metadata": {},
   "source": [
    "**How to create Series with nd array:-**\n"
   ]
  },
  {
   "cell_type": "code",
   "execution_count": 2,
   "id": "7c6c0f01-16ae-4bea-9ed0-8683c4e0581b",
   "metadata": {},
   "outputs": [
    {
     "name": "stdout",
     "output_type": "stream",
     "text": [
      "0    10\n",
      "1    15\n",
      "2    18\n",
      "3    22\n",
      "dtype: int64\n"
     ]
    }
   ],
   "source": [
    "import pandas as pd\n",
    "import numpy as np \n",
    "arr=np.array([10,15,18,22])\n",
    "s = pd.Series(arr)\n",
    "print(s)"
   ]
  },
  {
   "cell_type": "markdown",
   "id": "942cb0e8-43f7-4886-92cd-67fbd1fb4104",
   "metadata": {},
   "source": [
    "**How to create Series with Mutable index:-**"
   ]
  },
  {
   "cell_type": "code",
   "execution_count": 3,
   "id": "57351233-fd93-4f59-8aaa-2b9979a0c4a1",
   "metadata": {},
   "outputs": [
    {
     "name": "stdout",
     "output_type": "stream",
     "text": [
      "first     a\n",
      "second    b\n",
      "third     c\n",
      "fourth    d\n",
      "dtype: object\n"
     ]
    }
   ],
   "source": [
    "import pandas as pd\n",
    "import numpy as np\n",
    "arr=np.array(['a','b','c','d'])\n",
    "s=pd.Series(arr, index=['first','second','third','fourth'])\n",
    "print(s)"
   ]
  },
  {
   "cell_type": "markdown",
   "id": "cbcf36ea-46c8-4b1d-af83-1ffe42a52abe",
   "metadata": {},
   "source": [
    "### Creating a series from Scalar value\n",
    "*To create a series from scalar value, an index must be provided. The\n",
    "scalar value will be repeated as per the length of index.*"
   ]
  },
  {
   "cell_type": "code",
   "execution_count": 6,
   "id": "5ba1afa7-41eb-40b1-ad5d-5ae000226ce3",
   "metadata": {},
   "outputs": [
    {
     "name": "stdout",
     "output_type": "stream",
     "text": [
      "0    50\n",
      "1    50\n",
      "2    50\n",
      "3    50\n",
      "4    50\n",
      "dtype: int64\n"
     ]
    }
   ],
   "source": [
    "import pandas as pd\n",
    "s=pd.Series(50, index=[0,1,2,3,4])\n",
    "print(s)            "
   ]
  },
  {
   "cell_type": "markdown",
   "id": "61bc4fa6-aacb-461f-8c5d-f894d0658513",
   "metadata": {},
   "source": [
    "### Creating a series from a Dictionary"
   ]
  },
  {
   "cell_type": "code",
   "execution_count": 9,
   "id": "e689720c-3bbe-476d-bf36-b42d4fc03dff",
   "metadata": {},
   "outputs": [
    {
     "name": "stdout",
     "output_type": "stream",
     "text": [
      "name        Aman\n",
      "IPL_team     RCB\n",
      "runs        1729\n",
      "dtype: object\n"
     ]
    }
   ],
   "source": [
    "# importing pandas lib\n",
    "import pandas as pd\n",
    "\n",
    "# creating an Dictionary\n",
    "d={'name':'Aman', 'IPL_team': 'RCB', 'runs': '1729'}\n",
    "s=pd.Series(d)\n",
    "print(s)"
   ]
  },
  {
   "cell_type": "code",
   "execution_count": 10,
   "id": "2044e517-758a-48cc-b951-203d9c2b621c",
   "metadata": {},
   "outputs": [
    {
     "name": "stdout",
     "output_type": "stream",
     "text": [
      "0    1\n",
      "1    2\n",
      "2    3\n",
      "3    4\n",
      "4    5\n",
      "dtype: int64\n",
      "To multiply all values in a series by 2 :- \n",
      "0     2\n",
      "1     4\n",
      "2     6\n",
      "3     8\n",
      "4    10\n",
      "dtype: int64\n"
     ]
    }
   ],
   "source": [
    "import pandas as pd\n",
    "s=pd.Series([1,2,3,4,5])\n",
    "print(s)\n",
    "print('To multiply all values in a series by 2 :- ')\n",
    "print(s*2)"
   ]
  },
  {
   "cell_type": "code",
   "execution_count": 11,
   "id": "d49796f9-edcc-49d6-a524-e1c2ada5f77b",
   "metadata": {},
   "outputs": [
    {
     "name": "stdout",
     "output_type": "stream",
     "text": [
      "To find square of all values in a series:- \n",
      "0     1\n",
      "1     4\n",
      "2     9\n",
      "3    16\n",
      "4    25\n",
      "dtype: int64\n"
     ]
    }
   ],
   "source": [
    "import pandas as pd\n",
    "s=pd.Series([1,2,3,4,5])\n",
    "print('To find square of all values in a series:- ')\n",
    "print(s*s)"
   ]
  },
  {
   "cell_type": "code",
   "execution_count": 14,
   "id": "8a8f1a9d-9bcb-447d-afea-902c06ebccde",
   "metadata": {},
   "outputs": [
    {
     "name": "stdout",
     "output_type": "stream",
     "text": [
      "To find all values in a series that is greater than 2:- \n",
      "2    3\n",
      "3    4\n",
      "4    5\n",
      "dtype: int64\n"
     ]
    }
   ],
   "source": [
    "import pandas as pd\n",
    "s=pd.Series([1,2,3,4,5])\n",
    "print('To find all values in a series that is greater than 2:- ')\n",
    "# Boolean indexing\n",
    "result = s[s > 2]\n",
    "print(result)"
   ]
  },
  {
   "cell_type": "code",
   "execution_count": 17,
   "id": "f0ef5398-b967-42b7-8fea-dd9be19b3249",
   "metadata": {},
   "outputs": [
    {
     "name": "stdout",
     "output_type": "stream",
     "text": [
      "To add Series 1st and Series 2nd\n",
      "a    11\n",
      "b    22\n",
      "c    33\n",
      "d    44\n",
      "e    55\n",
      "dtype: int64\n",
      "To add Series 2nd and Series 3rd\n",
      "a    15.0\n",
      "b    34.0\n",
      "c    53.0\n",
      "d    72.0\n",
      "e     NaN\n",
      "dtype: float64\n",
      "To add Series 2nd and Series 3rd & filled non matching index with 0\n",
      "a    15.0\n",
      "b    34.0\n",
      "c    53.0\n",
      "d    72.0\n",
      "e    50.0\n",
      "dtype: float64\n"
     ]
    }
   ],
   "source": [
    "import pandas as pd\n",
    "s1=pd.Series([1,2,3,4,5], index=['a','b','c','d','e'])\n",
    "s2=pd.Series([10,20,30,40,50], index=['a','b','c','d','e'])\n",
    "s3=pd.Series([5,14,23,32], index=['a','b','c','d'])\n",
    "print(\"To add Series 1st and Series 2nd\")\n",
    "print(s1+s2)\n",
    "print(\"To add Series 2nd and Series 3rd\")\n",
    "print(s2+s3)\n",
    "print(\"To add Series 2nd and Series 3rd & filled non matching index with 0\")\n",
    "print(s2.add(s3,fill_value=0))"
   ]
  },
  {
   "cell_type": "markdown",
   "id": "97c0b7bf-f6f2-44c2-9a63-39de639a92a8",
   "metadata": {},
   "source": [
    "**Head and Tail Functions in Series**\n",
    "- head (): It is used to access the first 5 rows of a series.\n",
    "- Note :To access first 3 rows we can call series_name.head(3)\n",
    "- Note :To access first 7 rows we can call series_name.head(7)"
   ]
  },
  {
   "cell_type": "code",
   "execution_count": 22,
   "id": "1ad0b1d6-f00e-4d46-b2e7-ee31c7fce9f9",
   "metadata": {},
   "outputs": [
    {
     "name": "stdout",
     "output_type": "stream",
     "text": [
      "0    10\n",
      "1    15\n",
      "2    18\n",
      "3    22\n",
      "4    55\n",
      "dtype: int64\n",
      "0    10\n",
      "1    15\n",
      "2    18\n",
      "dtype: int64\n",
      "0    10\n",
      "1    15\n",
      "2    18\n",
      "3    22\n",
      "4    55\n",
      "5    77\n",
      "6    48\n",
      "dtype: int64\n"
     ]
    }
   ],
   "source": [
    "import pandas as pd\n",
    "import numpy as np\n",
    "arr=np.array([10,15,18,22,55,77,48,97])\n",
    "#crearte a series from array\n",
    "s=pd.Series(arr)\n",
    "# to print first 5 rows\n",
    "print (s.head())\n",
    "# to print first 3 rows\n",
    "print (s.head(3))\n",
    "# to print first 7 rows\n",
    "print (s.head(7))"
   ]
  },
  {
   "cell_type": "markdown",
   "id": "2720db2a-2cf9-485b-aead-c04b41353d64",
   "metadata": {},
   "source": [
    "**tail(): It is used to access the last 5 rows of a series.**\n",
    "- Note :To access last 4 rows we can call series_name.tail (4)"
   ]
  },
  {
   "cell_type": "code",
   "execution_count": 23,
   "id": "c9137bf9-186a-4ea0-b083-491526d26630",
   "metadata": {},
   "outputs": [
    {
     "name": "stdout",
     "output_type": "stream",
     "text": [
      "3    22\n",
      "4    55\n",
      "5    77\n",
      "6    48\n",
      "7    97\n",
      "dtype: int64\n",
      "5    77\n",
      "6    48\n",
      "7    97\n",
      "dtype: int64\n",
      "1    15\n",
      "2    18\n",
      "3    22\n",
      "4    55\n",
      "5    77\n",
      "6    48\n",
      "7    97\n",
      "dtype: int64\n"
     ]
    }
   ],
   "source": [
    "import pandas as pd\n",
    "import numpy as np\n",
    "arr=np.array([10,15,18,22,55,77,48,97])\n",
    "#crearte a series from array\n",
    "s=pd.Series(arr)\n",
    "# to print last 5 rows\n",
    "print (s.tail())\n",
    "# to print last 3 rows\n",
    "print (s.tail(3))\n",
    "# to print last 7 rows\n",
    "print (s.tail(7))"
   ]
  },
  {
   "cell_type": "markdown",
   "id": "627cc6f5-4b2f-45d3-81e8-de463e039c46",
   "metadata": {},
   "source": [
    "## Selection in Series\n",
    "**Series provides index label loc and ilocand [] to access rows and\n",
    "columns.**\n",
    "- 1. loc index label :-\n",
    "- Syntax:-series_name.loc[StartRange: StopRange]\n",
    "- ***Example***"
   ]
  },
  {
   "cell_type": "code",
   "execution_count": 26,
   "id": "6c9c1c44-3438-4894-91de-7e608749458f",
   "metadata": {},
   "outputs": [
    {
     "name": "stdout",
     "output_type": "stream",
     "text": [
      "0    10\n",
      "1    15\n",
      "2    18\n",
      "3    22\n",
      "4    55\n",
      "5    77\n",
      "dtype: int64\n",
      "0    10\n",
      "1    15\n",
      "2    18\n",
      "dtype: int64\n",
      "3    22\n",
      "4    55\n",
      "dtype: int64\n",
      "2    18\n",
      "3    22\n",
      "dtype: int64\n"
     ]
    }
   ],
   "source": [
    "import numpy as np\n",
    "import pandas as pd\n",
    "arr=np.array([10,15,18,22,55,77])\n",
    "s = pd.Series(arr)\n",
    "print(s)\n",
    "print(s.loc[:2]) #To Print Values from Index 0 to 2\n",
    "print(s.loc[3:4]) #To Print Values from Index 3 to 4\n",
    "print(s.loc[2:3])"
   ]
  },
  {
   "cell_type": "markdown",
   "id": "18f7039f-098c-404a-8c00-020845023af4",
   "metadata": {},
   "source": [
    "### 2. Selection Using iloc index label :-\n",
    "**Syntax:-series_name.iloc[StartRange : StopRange]**\n",
    "- Example"
   ]
  },
  {
   "cell_type": "code",
   "execution_count": 30,
   "id": "acd3fc4e-4074-4a0d-81b8-c166d95236a9",
   "metadata": {},
   "outputs": [
    {
     "name": "stdout",
     "output_type": "stream",
     "text": [
      "0    10\n",
      "1    15\n",
      "2    18\n",
      "3    22\n",
      "4    55\n",
      "5    77\n",
      "dtype: int64\n",
      "0    10\n",
      "1    15\n",
      "2    18\n",
      "3    22\n",
      "dtype: int64\n",
      "3    22\n",
      "dtype: int64\n",
      "2    18\n",
      "dtype: int64\n"
     ]
    }
   ],
   "source": [
    "import numpy as np\n",
    "import pandas as pd \n",
    "array=np.array([10,15,18,22,55,77])\n",
    "s=pd.Series(arr)\n",
    "print(s)\n",
    "print(s.iloc[:4]) #To Print Values from Index 0 to 3\n",
    "print(s.iloc[3:4]) #To Print Values from Index 3\n",
    "print(s.iloc[2:3]) #To Print Values from Index 2"
   ]
  },
  {
   "cell_type": "markdown",
   "id": "a2ea134b-c05d-4eac-b82e-c1bc42b6e7e3",
   "metadata": {},
   "source": [
    "### 3. Selection Using [] :\n",
    "**Syntax:-series_name[StartRange> : StopRange] or\n",
    "series_name[ index]**\n",
    "- Example"
   ]
  },
  {
   "cell_type": "code",
   "execution_count": 33,
   "id": "87acf515-69cd-4b80-8578-99772f5da076",
   "metadata": {},
   "outputs": [
    {
     "name": "stdout",
     "output_type": "stream",
     "text": [
      "0    10\n",
      "1    15\n",
      "2    18\n",
      "3    22\n",
      "4    55\n",
      "5    77\n",
      "dtype: int64\n",
      "15\n",
      "\n",
      "\n",
      "3    22\n",
      "dtype: int64\n",
      "0    10\n",
      "1    15\n",
      "2    18\n",
      "3    22\n",
      "dtype: int64\n"
     ]
    }
   ],
   "source": [
    "import numpy as np\n",
    "import pandas as pd \n",
    "array=np.array([10,15,18,22,55,77])\n",
    "s=pd.Series(arr)\n",
    "print(s)\n",
    "print(s[1])\n",
    "print('\\n')\n",
    "print(s[3:4])\n",
    "print (s[:4])"
   ]
  },
  {
   "cell_type": "markdown",
   "id": "16c07869-1108-46c2-b582-d702dac74445",
   "metadata": {},
   "source": [
    "### Indexing in Series\n",
    "**Pandas provide index attribute to get or set the index of entries or\n",
    "values in series.**\n",
    "- Example-"
   ]
  },
  {
   "cell_type": "code",
   "execution_count": 34,
   "id": "0df7088b-f89f-420c-8d73-37ecce38f37f",
   "metadata": {},
   "outputs": [
    {
     "name": "stdout",
     "output_type": "stream",
     "text": [
      "first     a\n",
      "second    b\n",
      "third     c\n",
      "fourth    d\n",
      "dtype: object\n",
      "\n",
      " indexes in Series are:::\n",
      "Index(['first', 'second', 'third', 'fourth'], dtype='object')\n"
     ]
    }
   ],
   "source": [
    "import pandas as pd \n",
    "import numpy as np\n",
    "arr=np.array(['a','b','c','d'])\n",
    "s=pd.Series(arr,index=['first','second','third','fourth'])\n",
    "print(s)\n",
    "# To print only indexes in series \n",
    "print('\\n indexes in Series are:::')\n",
    "print(s.index)"
   ]
  },
  {
   "cell_type": "markdown",
   "id": "c3f07cc5-2f12-412f-9b40-2f5404d5ed0e",
   "metadata": {},
   "source": [
    "## Slicing in Series\n",
    "**Slicing is a way to retrieve subsets of data from a pandas object. A\n",
    "slice object syntax is-**\n",
    "## SERIES_NAME [start:end: step]\n",
    "- The segments start representing the first item, end representing the\n",
    "last item, and step representing the increment between each item that\n",
    "you would like.\n",
    "- Example :-"
   ]
  },
  {
   "cell_type": "code",
   "execution_count": 37,
   "id": "6a10680b-34c4-4fc7-bb16-18bd4712416f",
   "metadata": {},
   "outputs": [
    {
     "name": "stdout",
     "output_type": "stream",
     "text": [
      "A    10\n",
      "B    15\n",
      "C    18\n",
      "D    22\n",
      "E    55\n",
      "F    77\n",
      "dtype: int64\n",
      "B    15\n",
      "D    22\n",
      "dtype: int64\n",
      "\n",
      "\n",
      "A    10\n",
      "C    18\n",
      "E    55\n",
      "dtype: int64\n",
      "A    10\n",
      "B    15\n",
      "C    18\n",
      "D    22\n",
      "dtype: int64\n"
     ]
    }
   ],
   "source": [
    "import numpy as np\n",
    "import pandas as pd \n",
    "arr=np.array([10,15,18,22,55,77])\n",
    "s=pd.Series(arr,index=['A','B','C','D','E','F'])\n",
    "print(s)\n",
    "print(s[1:5:2])\n",
    "print('\\n')\n",
    "print(s[0:6:2])\n",
    "print (s[:4])"
   ]
  },
  {
   "cell_type": "markdown",
   "id": "7ffde70f-5de7-4397-9b9b-ae997d136e46",
   "metadata": {},
   "source": [
    "# Pandas DataFrame\n",
    "\n",
    "A **DataFrame** is a two-dimensional object that is useful in representing data in the form of **rows and columns**.  \n",
    "It is similar to a **spreadsheet** or an **SQL table**.  \n",
    "This is the most commonly used pandas object.  \n",
    "\n",
    "Once we store the data into the DataFrame, we can perform various operations that are useful in analyzing and understanding the data.\n",
    "\n",
    "---\n",
    "\n",
    "## DataFrame Structure\n",
    "\n",
    "| COLUMNS     | PLAYERNAME | IPLTEAM | BASEPRICEINCR |\n",
    "|-------------|------------|---------|---------------|\n",
    "| **0**       | ROHIT      | MI      | 13            |\n",
    "| **1**       | VIRAT      | RCB     | 17            |\n",
    "| **2**       | HARDIK     | MI      | 14            |\n",
    "\n",
    "---\n",
    "\n",
    "## Key Points about DataFrame\n",
    "\n",
    "1. A DataFrame has **axes (indices)**:\n",
    "   - Row index → `axis=0`\n",
    "   - Column index → `axis=1`\n",
    "\n",
    "2. It is similar to a **spreadsheet**:\n",
    "   - Row index is called **Index**\n",
    "   - Column index is called **Column Name**\n",
    "\n",
    "3. A DataFrame contains **Heterogeneous data** (different data types).\n",
    "\n",
    "4. A DataFrame **Size is Mutable** (you can add/remove rows/columns).\n",
    "\n",
    "5. A DataFrame **Data is Mutable** (you can update/change values).\n",
    "\n",
    "---\n"
   ]
  },
  {
   "cell_type": "markdown",
   "id": "f90f2614-6692-48bd-b5c6-0a90760746d3",
   "metadata": {},
   "source": [
    "**A data frame can be created using any of the following**\n",
    "1. Series\n",
    "2. Lists\n",
    "3. Dictionary\n",
    "4. A numpy 2D array"
   ]
  },
  {
   "cell_type": "code",
   "execution_count": 38,
   "id": "59f56175-4c5d-4acd-9194-2d2a66d0e659",
   "metadata": {},
   "outputs": [
    {
     "name": "stdout",
     "output_type": "stream",
     "text": [
      "Empty DataFrame\n",
      "Columns: []\n",
      "Index: []\n"
     ]
    }
   ],
   "source": [
    "# How to create Empty dataframe\n",
    "\n",
    "import pandas as pd\n",
    "df=pd.DataFrame()\n",
    "print(df)"
   ]
  },
  {
   "cell_type": "code",
   "execution_count": 40,
   "id": "8f91b072-61b7-425d-baf7-fb372872d1a0",
   "metadata": {},
   "outputs": [
    {
     "name": "stdout",
     "output_type": "stream",
     "text": [
      "   0\n",
      "0  a\n",
      "1  b\n",
      "2  c\n",
      "3  d\n"
     ]
    }
   ],
   "source": [
    "#How to create Dataframe From Series\n",
    "import pandas as pd\n",
    "s = pd.Series(['a','b','c','d'])\n",
    "df=pd.DataFrame(s)\n",
    "print(df)\n",
    "#it has default coloumn name As 0 "
   ]
  },
  {
   "cell_type": "markdown",
   "id": "2b491625-c678-4e8a-a374-b3fe78ef0461",
   "metadata": {},
   "source": [
    "### DataFrame from Dictionary of Series\n",
    "Example"
   ]
  },
  {
   "cell_type": "code",
   "execution_count": 42,
   "id": "0e8a1b54-c57a-4125-a39e-9f3861a85c04",
   "metadata": {},
   "outputs": [
    {
     "name": "stdout",
     "output_type": "stream",
     "text": [
      "     Name Team\n",
      "0  Hardik   MI\n",
      "1   Virat  RCB\n"
     ]
    }
   ],
   "source": [
    "import pandas as pd\n",
    "name=pd.Series(['Hardik','Virat'])\n",
    "team=pd.Series(['MI','RCB'])\n",
    "dic={'Name':name,'Team':team}\n",
    "df=pd.DataFrame(dic)\n",
    "print(df)"
   ]
  },
  {
   "cell_type": "markdown",
   "id": "1084f463-6efa-4ad2-aac2-73e7aeb046c0",
   "metadata": {},
   "source": [
    "## DataFrame from List of Dictionaries\n",
    "Example-"
   ]
  },
  {
   "cell_type": "code",
   "execution_count": 43,
   "id": "4a2b770e-4eb3-477b-8086-0006c133507d",
   "metadata": {},
   "outputs": [
    {
     "name": "stdout",
     "output_type": "stream",
     "text": [
      "     Name   Sir_Name\n",
      "0  Sachin  Tendulkar\n",
      "1    Aman      Patel\n",
      "2  Ananya      Verma\n"
     ]
    }
   ],
   "source": [
    "import pandas as pd \n",
    "l=[{'Name':'Sachin','Sir_Name':'Tendulkar'},\n",
    "  {'Name':'Aman','Sir_Name':'Patel'},\n",
    "  {'Name':'Ananya','Sir_Name':'Verma'}]\n",
    "df1=pd.DataFrame(l)\n",
    "print(df1)"
   ]
  },
  {
   "cell_type": "markdown",
   "id": "11691282-6967-47c9-8244-0f3c20dc3d3a",
   "metadata": {},
   "source": [
    "## Iteration on Rows and Columns\n",
    "If we want to access record or data from a data frame row wise or\n",
    "column wise then iteration is used. Pandas provide 2 functions to\n",
    "perform iterations\n",
    "1. iterrows ()\n",
    "2. iteritems ()\n",
    "---\n",
    "**iterrows()**\n",
    "- It is used to access the data row wise.\n",
    "- Example-"
   ]
  },
  {
   "cell_type": "code",
   "execution_count": 54,
   "id": "1f7b89f4-8f5a-4365-a9be-945829b86b21",
   "metadata": {},
   "outputs": [
    {
     "name": "stdout",
     "output_type": "stream",
     "text": [
      "     Name   Sir_Name\n",
      "0  Sachin  Tendulkar\n",
      "1    Aman      Patel\n",
      "2  Ananya      Verma\n",
      "\n",
      " Row index is :: 0\n",
      "Row value is::\n",
      "Name           Sachin\n",
      "Sir_Name    Tendulkar\n",
      "Name: 0, dtype: object\n",
      "\n",
      " Row index is :: 1\n",
      "Row value is::\n",
      "Name         Aman\n",
      "Sir_Name    Patel\n",
      "Name: 1, dtype: object\n",
      "\n",
      " Row index is :: 2\n",
      "Row value is::\n",
      "Name        Ananya\n",
      "Sir_Name     Verma\n",
      "Name: 2, dtype: object\n"
     ]
    }
   ],
   "source": [
    "import pandas as pd \n",
    "l=[{'Name':'Sachin','Sir_Name':'Tendulkar'},\n",
    "  {'Name':'Aman','Sir_Name':'Patel'},\n",
    "  {'Name':'Ananya','Sir_Name':'Verma'}]\n",
    "df1=pd.DataFrame(l)\n",
    "print(df1)\n",
    "for(row_index,row_value) in df1.iterrows():\n",
    "    print('\\n Row index is ::',row_index)\n",
    "    print('Row value is::') \n",
    "    print(row_value)"
   ]
  },
  {
   "cell_type": "markdown",
   "id": "82eca68b-9280-4b18-ac66-2fe13dbe1ccd",
   "metadata": {},
   "source": [
    "### iteritems()\n",
    "- It is used to access the data column wise.\n",
    "- in pandas >= 2.0, the method .iteritems() has been deprecated and replaced with .items()\n",
    "- Example-"
   ]
  },
  {
   "cell_type": "code",
   "execution_count": 55,
   "id": "24b5b165-6a85-4a32-bd95-ea26a2116640",
   "metadata": {},
   "outputs": [
    {
     "name": "stdout",
     "output_type": "stream",
     "text": [
      "     Name Sir_Name\n",
      "0    Aman    Patel\n",
      "1  Ananya    Verma\n",
      "\n",
      "\n",
      "Coloumn name is :: Name\n",
      "Column value are::\n",
      "0      Aman\n",
      "1    Ananya\n",
      "Name: Name, dtype: object\n",
      "\n",
      "\n",
      "Coloumn name is :: Sir_Name\n",
      "Column value are::\n",
      "0    Patel\n",
      "1    Verma\n",
      "Name: Sir_Name, dtype: object\n"
     ]
    }
   ],
   "source": [
    "import pandas as pd \n",
    "l=[\n",
    "  {'Name':'Aman','Sir_Name':'Patel'},\n",
    "  {'Name':'Ananya','Sir_Name':'Verma'}\n",
    "]\n",
    "df2=pd.DataFrame(l)\n",
    "print(df2)\n",
    "for(col_name,col_value) in df2.items():\n",
    "    print('\\n')\n",
    "    print('Coloumn name is ::',col_name)\n",
    "    print('Column value are::') \n",
    "    print(col_value)"
   ]
  },
  {
   "cell_type": "code",
   "execution_count": null,
   "id": "cb2e83c0-789a-4f5a-974e-611b91209de7",
   "metadata": {},
   "outputs": [],
   "source": []
  }
 ],
 "metadata": {
  "kernelspec": {
   "display_name": "Python 3 (ipykernel)",
   "language": "python",
   "name": "python3"
  },
  "language_info": {
   "codemirror_mode": {
    "name": "ipython",
    "version": 3
   },
   "file_extension": ".py",
   "mimetype": "text/x-python",
   "name": "python",
   "nbconvert_exporter": "python",
   "pygments_lexer": "ipython3",
   "version": "3.13.5"
  }
 },
 "nbformat": 4,
 "nbformat_minor": 5
}
