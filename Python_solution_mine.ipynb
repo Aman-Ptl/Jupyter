{
 "cells": [
  {
   "cell_type": "code",
   "execution_count": null,
   "id": "1c4d6ca0-5e85-4109-bcf3-00d479dfcd10",
   "metadata": {},
   "outputs": [],
   "source": [
    "# Python Exercises:\n",
    "\n",
    "This notebook contains 30 exercises.\n",
    "- Taking string input\n",
    "- Using string methods\n",
    "- Indexing and slicing strings\n",
    "- Analyzing and transforming strings"
   ]
  },
  {
   "cell_type": "markdown",
   "id": "62473e40",
   "metadata": {},
   "source": [
    "### Exercise 1: Take a string as input and print it."
   ]
  },
  {
   "cell_type": "code",
   "execution_count": 1,
   "id": "3d0083a3",
   "metadata": {},
   "outputs": [
    {
     "name": "stdin",
     "output_type": "stream",
     "text": [
      "Enter Your Name Aman \n"
     ]
    },
    {
     "name": "stdout",
     "output_type": "stream",
     "text": [
      "Aman \n"
     ]
    }
   ],
   "source": [
    "name=input(\"Enter Your Name\")\n",
    "print(name)"
   ]
  },
  {
   "cell_type": "markdown",
   "id": "a8410236",
   "metadata": {},
   "source": [
    "### Exercise 2: Greet the user by name."
   ]
  },
  {
   "cell_type": "code",
   "execution_count": 1,
   "id": "ca1019b9",
   "metadata": {},
   "outputs": [
    {
     "name": "stdin",
     "output_type": "stream",
     "text": [
      "Enter Your Name aman \n"
     ]
    },
    {
     "name": "stdout",
     "output_type": "stream",
     "text": [
      "Hello aman  Good Morning\n"
     ]
    }
   ],
   "source": [
    "name=input(\"Enter Your Name\")\n",
    "print(f\"Hello {name} Good Morning\")"
   ]
  },
  {
   "cell_type": "markdown",
   "id": "7048cf23",
   "metadata": {},
   "source": [
    "### Exercise 3: Count characters in a sentence."
   ]
  },
  {
   "cell_type": "code",
   "execution_count": 7,
   "id": "df8278fd",
   "metadata": {},
   "outputs": [
    {
     "name": "stdout",
     "output_type": "stream",
     "text": [
      "9\n"
     ]
    }
   ],
   "source": [
    "a=\"AmanPatel\"\n",
    "print(len(a))"
   ]
  },
  {
   "cell_type": "markdown",
   "id": "ae25a383",
   "metadata": {},
   "source": [
    "### Exercise 4: Print first and last characters."
   ]
  },
  {
   "cell_type": "code",
   "execution_count": 8,
   "id": "a68b89f2",
   "metadata": {},
   "outputs": [
    {
     "name": "stdin",
     "output_type": "stream",
     "text": [
      "Enter a string:  Aman\n"
     ]
    },
    {
     "name": "stdout",
     "output_type": "stream",
     "text": [
      "A\n",
      "n\n"
     ]
    }
   ],
   "source": [
    "s = input(\"Enter a string: \")\n",
    "print(s[0])\n",
    "print(s[-1])\n"
   ]
  },
  {
   "cell_type": "markdown",
   "id": "3c6c6f09",
   "metadata": {},
   "source": [
    "### Exercise 5: Concatenate two strings."
   ]
  },
  {
   "cell_type": "code",
   "execution_count": 13,
   "id": "4e1bebb0",
   "metadata": {},
   "outputs": [
    {
     "name": "stdin",
     "output_type": "stream",
     "text": [
      "Enter first string:  Aman \n",
      "Enter second string:  Patel\n"
     ]
    },
    {
     "name": "stdout",
     "output_type": "stream",
     "text": [
      "Aman  Patel\n"
     ]
    }
   ],
   "source": [
    "a = input(\"Enter first string: \")\n",
    "b = input(\"Enter second string: \")\n",
    "print(a+\" \"+b)"
   ]
  },
  {
   "cell_type": "markdown",
   "id": "05b3ede2",
   "metadata": {},
   "source": [
    "### Exercise 6: Print the character at index 3."
   ]
  },
  {
   "cell_type": "code",
   "execution_count": 17,
   "id": "891b0bfb",
   "metadata": {},
   "outputs": [
    {
     "name": "stdin",
     "output_type": "stream",
     "text": [
      "Enter a string:  Rajesh\n"
     ]
    },
    {
     "name": "stdout",
     "output_type": "stream",
     "text": [
      "j\n"
     ]
    }
   ],
   "source": [
    "s = input(\"Enter a string: \")\n",
    "print(s[2])\n"
   ]
  },
  {
   "cell_type": "markdown",
   "id": "5f1b723a",
   "metadata": {},
   "source": [
    "### Exercise 7: Extract last 5 characters."
   ]
  },
  {
   "cell_type": "code",
   "execution_count": 18,
   "id": "23ba4777",
   "metadata": {},
   "outputs": [
    {
     "name": "stdin",
     "output_type": "stream",
     "text": [
      "Enter a string:  AmanPatel\n"
     ]
    },
    {
     "name": "stdout",
     "output_type": "stream",
     "text": [
      "Last 5 chars: Patel\n"
     ]
    }
   ],
   "source": [
    "s = input(\"Enter a string: \")\n",
    "print(\"Last 5 chars:\", s[-5:])"
   ]
  },
  {
   "cell_type": "markdown",
   "id": "82034a9a",
   "metadata": {},
   "source": [
    "### Exercise 8: Reverse a string."
   ]
  },
  {
   "cell_type": "code",
   "execution_count": 21,
   "id": "ac7419c8",
   "metadata": {},
   "outputs": [
    {
     "name": "stdin",
     "output_type": "stream",
     "text": [
      "Enter a string:  Aman\n"
     ]
    },
    {
     "name": "stdout",
     "output_type": "stream",
     "text": [
      "namA\n"
     ]
    }
   ],
   "source": [
    "s = input(\"Enter a string: \")\n",
    "print(s[-1::-1]) #[start:stop:step]\n",
    "#s[::1]\tStart at 0, step forward → 'abcdef'\n",
    "#s[::-1]\tStart at -1 (end), step backward → 'fedcba'"
   ]
  },
  {
   "cell_type": "markdown",
   "id": "722f1282",
   "metadata": {},
   "source": [
    "### Exercise 9: Print every second character."
   ]
  },
  {
   "cell_type": "code",
   "execution_count": 22,
   "id": "fff63473",
   "metadata": {},
   "outputs": [
    {
     "name": "stdin",
     "output_type": "stream",
     "text": [
      "Enter a string:  AmanPatel\n"
     ]
    },
    {
     "name": "stdout",
     "output_type": "stream",
     "text": [
      "AaPtl\n"
     ]
    }
   ],
   "source": [
    "s = input(\"Enter a string: \")\n",
    "print(s[::2])"
   ]
  },
  {
   "cell_type": "markdown",
   "id": "8d8f9b10",
   "metadata": {},
   "source": [
    "### Exercise 10: Slice from index 2 to 7."
   ]
  },
  {
   "cell_type": "code",
   "execution_count": 25,
   "id": "f0350e5b",
   "metadata": {},
   "outputs": [
    {
     "name": "stdin",
     "output_type": "stream",
     "text": [
      "Enter a string:  AmanPatel\n"
     ]
    },
    {
     "name": "stdout",
     "output_type": "stream",
     "text": [
      "anPate\n"
     ]
    }
   ],
   "source": [
    "s = input(\"Enter a string: \")\n",
    "print(s[2:7])"
   ]
  },
  {
   "cell_type": "markdown",
   "id": "34d5172f",
   "metadata": {},
   "source": [
    "### Exercise 11: Convert to uppercase."
   ]
  },
  {
   "cell_type": "code",
   "execution_count": 28,
   "id": "2c661089",
   "metadata": {},
   "outputs": [
    {
     "name": "stdin",
     "output_type": "stream",
     "text": [
      "Enter a string:  aman\n"
     ]
    },
    {
     "name": "stdout",
     "output_type": "stream",
     "text": [
      "AMAN\n"
     ]
    }
   ],
   "source": [
    "s = input(\"Enter a string: \")\n",
    "print(s.upper())"
   ]
  },
  {
   "cell_type": "markdown",
   "id": "40a04f39",
   "metadata": {},
   "source": [
    "### Exercise 12: Convert to lowercase."
   ]
  },
  {
   "cell_type": "code",
   "execution_count": 29,
   "id": "cb0bc30d",
   "metadata": {},
   "outputs": [
    {
     "name": "stdin",
     "output_type": "stream",
     "text": [
      "Enter a string:  AMAN\n"
     ]
    },
    {
     "name": "stdout",
     "output_type": "stream",
     "text": [
      "aman\n"
     ]
    }
   ],
   "source": [
    "s = input(\"Enter a string: \")\n",
    "print(s.lower())\n"
   ]
  },
  {
   "cell_type": "markdown",
   "id": "5598bdc1",
   "metadata": {},
   "source": [
    "### Exercise 13: Count occurrences of 'a'."
   ]
  },
  {
   "cell_type": "code",
   "execution_count": 31,
   "id": "99546fbf",
   "metadata": {},
   "outputs": [
    {
     "name": "stdin",
     "output_type": "stream",
     "text": [
      "Enter a string:  amanaaa\n"
     ]
    },
    {
     "name": "stdout",
     "output_type": "stream",
     "text": [
      "5\n"
     ]
    }
   ],
   "source": [
    "s = input(\"Enter a string: \")\n",
    "print(s.count(\"a\"))\n"
   ]
  },
  {
   "cell_type": "markdown",
   "id": "de23a967",
   "metadata": {},
   "source": [
    "### Exercise 14: Replace spaces with hyphens."
   ]
  },
  {
   "cell_type": "code",
   "execution_count": 33,
   "id": "a37a28f7",
   "metadata": {},
   "outputs": [
    {
     "name": "stdin",
     "output_type": "stream",
     "text": [
      "Enter a sentence:  Aman Patel is a good boy\n"
     ]
    },
    {
     "name": "stdout",
     "output_type": "stream",
     "text": [
      "Aman-Patel-is-a-good-boy\n"
     ]
    }
   ],
   "source": [
    "s = input(\"Enter a sentence: \")\n",
    "print(s.replace(\" \",\"-\"))"
   ]
  },
  {
   "cell_type": "markdown",
   "id": "39185ce6",
   "metadata": {},
   "source": [
    "### Exercise 15: Check if starts with 'Hello'."
   ]
  },
  {
   "cell_type": "code",
   "execution_count": 34,
   "id": "bf2a0f4f",
   "metadata": {},
   "outputs": [
    {
     "name": "stdin",
     "output_type": "stream",
     "text": [
      "Enter a string:  hello i am a good boy Hello\n"
     ]
    },
    {
     "name": "stdout",
     "output_type": "stream",
     "text": [
      "False\n",
      "True\n"
     ]
    }
   ],
   "source": [
    "s = input(\"Enter a string: \")\n",
    "print(s.startswith(\"Hello\"))\n",
    "print(s.endswith(\"Hello\"))   \n"
   ]
  },
  {
   "cell_type": "markdown",
   "id": "e18eb5f4",
   "metadata": {},
   "source": [
    "### Exercise 16: Is string alphanumeric?"
   ]
  },
  {
   "cell_type": "code",
   "execution_count": null,
   "id": "0fda7af1",
   "metadata": {},
   "outputs": [],
   "source": [
    "s = input(\"Enter a string: \")\n",
    "print(s.isalpha())  "
   ]
  },
  {
   "cell_type": "markdown",
   "id": "f041ec70",
   "metadata": {},
   "source": [
    "### Exercise 17: Is string numeric?"
   ]
  },
  {
   "cell_type": "code",
   "execution_count": null,
   "id": "478b137d",
   "metadata": {},
   "outputs": [],
   "source": [
    "s = input(\"Enter a string: \")\n",
    "print(s.isdigit())  "
   ]
  },
  {
   "cell_type": "markdown",
   "id": "cf7c8070",
   "metadata": {},
   "source": [
    "### Exercise 18: Count vowels."
   ]
  },
  {
   "cell_type": "code",
   "execution_count": 39,
   "id": "020193f5",
   "metadata": {},
   "outputs": [
    {
     "name": "stdin",
     "output_type": "stream",
     "text": [
      "Enter a string:  aman\n"
     ]
    },
    {
     "name": "stdout",
     "output_type": "stream",
     "text": [
      "Number of Vowel is :  2\n"
     ]
    }
   ],
   "source": [
    "s = input(\"Enter a string: \")\n",
    "vowels = \"aeiouAEIOU\"\n",
    "count = 0\n",
    "for i in s:\n",
    "    if i in vowels:\n",
    "        count +=1\n",
    "print(\"Number of Vowel is : \", count)"
   ]
  },
  {
   "cell_type": "markdown",
   "id": "4200bee4",
   "metadata": {},
   "source": [
    "### Exercise 19: Find 'Python' position."
   ]
  },
  {
   "cell_type": "code",
   "execution_count": 41,
   "id": "1829f169",
   "metadata": {},
   "outputs": [
    {
     "name": "stdin",
     "output_type": "stream",
     "text": [
      "Enter a sentence:  i am learning Python\n"
     ]
    },
    {
     "name": "stdout",
     "output_type": "stream",
     "text": [
      "14\n"
     ]
    }
   ],
   "source": [
    "s = input(\"Enter a sentence: \")\n",
    "pos = s.find(\"Python\")\n",
    "print(pos)"
   ]
  },
  {
   "cell_type": "markdown",
   "id": "b0efcf72",
   "metadata": {},
   "source": [
    "### Exercise 20: Check if palindrome."
   ]
  },
  {
   "cell_type": "code",
   "execution_count": 44,
   "id": "dff1b27a",
   "metadata": {},
   "outputs": [
    {
     "name": "stdin",
     "output_type": "stream",
     "text": [
      "Enter a word:  NamaN\n"
     ]
    },
    {
     "name": "stdout",
     "output_type": "stream",
     "text": [
      "Yes it is a Palindrome\n"
     ]
    }
   ],
   "source": [
    "s = input(\"Enter a word: \")\n",
    "a=s[::-1]\n",
    "if s==a:\n",
    "    print(\"Yes: it is a Palindrome\")\n",
    "else:\n",
    "    print(\"No: Is is not a Palindrome\")"
   ]
  },
  {
   "cell_type": "markdown",
   "id": "d670bf33",
   "metadata": {},
   "source": [
    "### Exercise 21: Print string character-by-character using loop."
   ]
  },
  {
   "cell_type": "code",
   "execution_count": 45,
   "id": "98f4f59e",
   "metadata": {},
   "outputs": [
    {
     "name": "stdin",
     "output_type": "stream",
     "text": [
      "Enter a string:  aman\n"
     ]
    },
    {
     "name": "stdout",
     "output_type": "stream",
     "text": [
      "a\n",
      "m\n",
      "a\n",
      "n\n"
     ]
    }
   ],
   "source": [
    "s = input(\"Enter a string: \")\n",
    "for i in s:\n",
    "    print(i)"
   ]
  },
  {
   "cell_type": "markdown",
   "id": "32087b84",
   "metadata": {},
   "source": [
    "### Exercise 22: Print formatted name and email."
   ]
  },
  {
   "cell_type": "code",
   "execution_count": 46,
   "id": "a70c72a0",
   "metadata": {},
   "outputs": [
    {
     "name": "stdin",
     "output_type": "stream",
     "text": [
      "Enter your name:  Aman\n",
      "Enter your email:  ptlaman1922@gmail.com\n"
     ]
    },
    {
     "name": "stdout",
     "output_type": "stream",
     "text": [
      "My name is Aman and my email is ptlaman1922@gmail.com\n"
     ]
    }
   ],
   "source": [
    "name = input(\"Enter your name: \")\n",
    "email = input(\"Enter your email: \")\n",
    "print(f\"My name is {name} and my email is {email}\")\n"
   ]
  },
  {
   "cell_type": "markdown",
   "id": "2ca271b4",
   "metadata": {},
   "source": [
    "### Exercise 23: Generate a username."
   ]
  },
  {
   "cell_type": "code",
   "execution_count": 48,
   "id": "578581ed",
   "metadata": {},
   "outputs": [
    {
     "name": "stdin",
     "output_type": "stream",
     "text": [
      "Enter name:  aman\n",
      "Enter 10-digit phone number:  7398931922\n"
     ]
    },
    {
     "name": "stdout",
     "output_type": "stream",
     "text": [
      "aman1922\n"
     ]
    }
   ],
   "source": [
    "name = input(\"Enter name: \")\n",
    "phone = input(\"Enter 10-digit phone number: \")\n",
    "print(name+phone[6:])"
   ]
  },
  {
   "cell_type": "markdown",
   "id": "16b2acfe",
   "metadata": {},
   "source": [
    "### Exercise 24: Extract domain from email."
   ]
  },
  {
   "cell_type": "code",
   "execution_count": 49,
   "id": "d126723b",
   "metadata": {},
   "outputs": [
    {
     "name": "stdin",
     "output_type": "stream",
     "text": [
      "Enter your email:  amanptl@gmail.com\n"
     ]
    },
    {
     "name": "stdout",
     "output_type": "stream",
     "text": [
      "Your domain is: gmail.com\n"
     ]
    }
   ],
   "source": [
    "email = input(\"Enter your email: \")\n",
    "domain = email.split(\"@\")[1]\n",
    "print(\"Your domain is:\", domain)\n"
   ]
  },
  {
   "cell_type": "markdown",
   "id": "7f363777",
   "metadata": {},
   "source": [
    "### Exercise 25: Convert sentence to title case."
   ]
  },
  {
   "cell_type": "code",
   "execution_count": 50,
   "id": "96bc37ff",
   "metadata": {},
   "outputs": [
    {
     "name": "stdin",
     "output_type": "stream",
     "text": [
      "Enter a sentence:  aman is a good boy\n"
     ]
    },
    {
     "name": "stdout",
     "output_type": "stream",
     "text": [
      "Aman Is A Good Boy\n"
     ]
    }
   ],
   "source": [
    "s = input(\"Enter a sentence: \")\n",
    "print(s.title())"
   ]
  },
  {
   "cell_type": "markdown",
   "id": "24d05cb2",
   "metadata": {},
   "source": [
    "### Exercise 26: Characters at even indices."
   ]
  },
  {
   "cell_type": "code",
   "execution_count": null,
   "id": "d8e1c9d2",
   "metadata": {},
   "outputs": [],
   "source": [
    "s = input(\"Enter a string: \")\n",
    "print(s[::2])\n"
   ]
  },
  {
   "cell_type": "markdown",
   "id": "4689455c",
   "metadata": {},
   "source": [
    "### Exercise 27: Remove vowels."
   ]
  },
  {
   "cell_type": "code",
   "execution_count": 54,
   "id": "1ad8fb27",
   "metadata": {},
   "outputs": [
    {
     "name": "stdin",
     "output_type": "stream",
     "text": [
      "Enter a string:  aman is a good boy\n"
     ]
    },
    {
     "name": "stdout",
     "output_type": "stream",
     "text": [
      " m n  s   g  d b y\n"
     ]
    }
   ],
   "source": [
    "s = input(\"Enter a string: \")\n",
    "vowels = \"aeiouAEIOU\"\n",
    "for i in s:\n",
    "    if i in vowels:\n",
    "        s=s.replace(i,\" \")\n",
    "\n",
    "print(s)        \n",
    "    \n"
   ]
  },
  {
   "cell_type": "markdown",
   "id": "92f653eb",
   "metadata": {},
   "source": [
    "### Exercise 28: Check if two words are anagrams."
   ]
  },
  {
   "cell_type": "code",
   "execution_count": null,
   "id": "73be2fdc",
   "metadata": {},
   "outputs": [],
   "source": [
    "a = input(\"Enter first word: \")\n",
    "b = input(\"Enter second word: \")\n"
   ]
  },
  {
   "cell_type": "markdown",
   "id": "5557761c",
   "metadata": {},
   "source": [
    "### Exercise 29: Replace vowels with '*'."
   ]
  },
  {
   "cell_type": "code",
   "execution_count": null,
   "id": "0b119b67",
   "metadata": {},
   "outputs": [],
   "source": [
    "s = input(\"Enter a string: \")\n",
    "vowels = \"aeiouAEIOU\"\n",
    "for i in s:\n",
    "    if i in vowels:\n",
    "        s=s.replace(i,\"*\")\n",
    "\n",
    "print(s) \n"
   ]
  },
  {
   "cell_type": "markdown",
   "id": "be8c5c87",
   "metadata": {},
   "source": [
    "### Exercise 30: Print initials from full name."
   ]
  },
  {
   "cell_type": "code",
   "execution_count": 55,
   "id": "9df1949f",
   "metadata": {},
   "outputs": [
    {
     "name": "stdin",
     "output_type": "stream",
     "text": [
      "Enter full name:  Aman Patel\n"
     ]
    },
    {
     "name": "stdout",
     "output_type": "stream",
     "text": [
      "Initials: AP\n"
     ]
    }
   ],
   "source": [
    "name = input(\"Enter full name: \")\n",
    "words = name.split()\n",
    "\n",
    "i = \"\"\n",
    "for word in words:\n",
    "    i += word[0].upper()\n",
    "\n",
    "print(\"Initials:\", i)\n"
   ]
  },
  {
   "cell_type": "code",
   "execution_count": null,
   "id": "01ae3f31-c9cf-4411-a7f1-893e0e4c3a81",
   "metadata": {},
   "outputs": [],
   "source": []
  }
 ],
 "metadata": {
  "kernelspec": {
   "display_name": "Python 3 (ipykernel)",
   "language": "python",
   "name": "python3"
  },
  "language_info": {
   "codemirror_mode": {
    "name": "ipython",
    "version": 3
   },
   "file_extension": ".py",
   "mimetype": "text/x-python",
   "name": "python",
   "nbconvert_exporter": "python",
   "pygments_lexer": "ipython3",
   "version": "3.13.5"
  }
 },
 "nbformat": 4,
 "nbformat_minor": 5
}
