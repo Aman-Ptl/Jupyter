{
 "cells": [
  {
   "cell_type": "code",
   "execution_count": 1,
   "id": "98ab33c8-5be3-4919-b93e-0a9065fbeff4",
   "metadata": {},
   "outputs": [
    {
     "name": "stdout",
     "output_type": "stream",
     "text": [
      "('Aman', 'data science', 1, 4, 'krutanic')\n"
     ]
    }
   ],
   "source": [
    "l=[\"Aman\",\"data science\",1,4,\"krutanic\"]\n",
    "l=tuple(l)\n",
    "print(l)"
   ]
  },
  {
   "cell_type": "code",
   "execution_count": 9,
   "id": "8a897ec6-a5b4-4eed-9e66-d2d6296eb7ac",
   "metadata": {},
   "outputs": [
    {
     "name": "stdout",
     "output_type": "stream",
     "text": [
      "{1, 2, 3, 4}\n"
     ]
    }
   ],
   "source": [
    "my_list = [1, 2, 2, 3, 3, 3, 4]\n",
    "my_set = set(my_list)\n",
    "print(my_set)   #  {1, 2, 3, 4}"
   ]
  },
  {
   "cell_type": "code",
   "execution_count": 8,
   "id": "32b748e5-f3c7-4121-8b61-730ffe73f278",
   "metadata": {},
   "outputs": [
    {
     "name": "stdout",
     "output_type": "stream",
     "text": [
      "<class 'dict'>\n"
     ]
    }
   ],
   "source": [
    "empty = {}\n",
    "print(type(empty))  #<class 'dict'>"
   ]
  },
  {
   "cell_type": "code",
   "execution_count": 4,
   "id": "bdabb6f9-08e1-46cb-a008-71ac99b54cf8",
   "metadata": {},
   "outputs": [
    {
     "name": "stdout",
     "output_type": "stream",
     "text": [
      "<class 'set'>\n"
     ]
    }
   ],
   "source": [
    "empty_set = set()\n",
    "print(type(empty_set))  #<class 'set'>"
   ]
  },
  {
   "cell_type": "code",
   "execution_count": 10,
   "id": "ed799e10-39cf-456f-a893-e24a67858244",
   "metadata": {},
   "outputs": [
    {
     "name": "stdout",
     "output_type": "stream",
     "text": [
      "{'1': 0, '2': 0, '3': 0, '4': 0, '5': 0}\n"
     ]
    }
   ],
   "source": [
    "my_dict={str(x): 0 for x in range(1, 6)}\n",
    "print(my_dict)"
   ]
  },
  {
   "cell_type": "code",
   "execution_count": 11,
   "id": "f76f66a0-0344-4605-b317-ad2b4a8c0108",
   "metadata": {},
   "outputs": [
    {
     "name": "stdout",
     "output_type": "stream",
     "text": [
      "True\n",
      "False\n"
     ]
    }
   ],
   "source": [
    "# The in operator works on tuples and sets.\n",
    "my_set = {1, 2, 3}\n",
    "print(2 in my_set)  \n",
    "print(4 in my_set)"
   ]
  },
  {
   "cell_type": "code",
   "execution_count": null,
   "id": "1f85b5ac-d1b9-4af3-becf-482c3a862419",
   "metadata": {},
   "outputs": [],
   "source": []
  }
 ],
 "metadata": {
  "kernelspec": {
   "display_name": "Python 3 (ipykernel)",
   "language": "python",
   "name": "python3"
  },
  "language_info": {
   "codemirror_mode": {
    "name": "ipython",
    "version": 3
   },
   "file_extension": ".py",
   "mimetype": "text/x-python",
   "name": "python",
   "nbconvert_exporter": "python",
   "pygments_lexer": "ipython3",
   "version": "3.13.5"
  }
 },
 "nbformat": 4,
 "nbformat_minor": 5
}
